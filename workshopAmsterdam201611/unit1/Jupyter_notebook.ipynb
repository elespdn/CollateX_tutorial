{
 "cells": [
  {
   "cell_type": "markdown",
   "metadata": {
    "collapsed": true
   },
   "source": [
    "# Jupyter notebook\n",
    "\n",
    "- What is it?\n",
    "- Start Jupyter notebook\n",
    "- Create a new directory\n",
    "- Create a new notebook\n",
    "- Editing modes\n",
    "    - Markdown Cells\n",
    "    - Code cells\n",
    "- Save\n",
    "- Download\n",
    "- Quit Jupyter\n",
    "- More (optional)\n",
    "---\n",
    "\n",
    "## What is it?\n",
    "\n",
    "From [Project Jupyter](https://jupyter.org/) website:\n",
    "<img src=\"images/jupyter-notebook.png\" width=\"80%\">\n",
    "The majority of the tutorials in this workshop, including the one you reading right now, are Jupyter notebooks.\n",
    "\n",
    "\n",
    "## Start Jupyter notebook\n",
    "\n",
    "To launch Jupyter notebook, open your terminal (that is your command line; if you don’t know what it is, read the [Command line tutorial](http://nbviewer.jupyter.org/github/DiXiT-eu/collatex-tutorial/blob/master/unit1/Command_line.ipynb)) and type:\n",
    "\n",
    "    jupyter notebook\n",
    "\n",
    "Then wait for a window to open in your Web browser. You can ignore the command line after that; your interaction with Jupyter will happen entirely in the Web browser window. In the browser you can navigate into your local files; note that the directory displayed in the broswer when you launch Jupyter corresponds to the directory where you are when typing the command `jupyter notebook`; this means that if you open the terminal and launch Jupyter, the Home directory will appear to you.\n",
    "\n",
    "If, for whatever reason, nothing happens in your Web browser, then once you see a pair of lines in the command-line terminal like:\n",
    "\n",
    "    [I 23:14:13.260 NotebookApp] The Jupyter Notebook is running at: http://localhost:8888/\n",
    "    [I 23:14:13.260 NotebookApp] Use Control-C to stop this server and shut down all kernels (twice to skip confirmation).\n",
    "\n",
    "you can navigate in a browser to http://localhost:8888/\n",
    "\n",
    "In rare cases some users may already be running another application that uses that address, in which case IPython notebook will refuse to start. You can tell IPython notebook to use a different address with:\n",
    "\n",
    "    jupyter notebook --port 8889\n",
    "\n",
    "Numbers between 8889 and 8899 are likely to be free.\n",
    "\n",
    "<!--\n",
    "Commented out 2016-07-25 djb, under the assumption that the Anaconda distribution has fixed this bug\n",
    "\n",
    "#### Troubleshooting a Windows installation\n",
    "\n",
    "There is an esoteric bug in Python that can sometimes cause the launch of IPython notebook on a Windows machine to fail at this point. The symptoms are that the browser opens an unhelpful window that does not look like the IPython notebook workspace described below, and the Power Shell or bash command-line terminal in which you started IPython displays several screens of error messages. The bug has been fixed in Python, and although the new version is not yet part of the Anaconda distribution, you can download it separately and copy the fix over the broken file. To do that, open https://raw.githubusercontent.com/python/cpython/master/Lib/mimetypes.py in a web browser and save the file (with the filename mimetypes.py) somewhere convenient, such as your desktop. Then navigate to the Lib directory under your anaconda installation, which should already have a file called mimetypes.py. Move that file to your desktop or somewhere else out of the anaconda hierarchy (change the name, so that you don’t overwrite the file you just downloaded!) and put the newly downloaded copy of the file into the Lib directory in place of the old one. If all goes well, that should enable you to start IPython notebook successfully.\n",
    "-->\n",
    "\n",
    "## Create a new directory\n",
    "\n",
    "During the workshop we will work with Jupyter and we will need to create new notebooks. We probably want to organize these new notebooks in a directory: remember that [we created a directory for the workshop](http://nbviewer.jupyter.org/github/DiXiT-eu/collatex-tutorial/blob/master/unit1/Command_line.ipynb#Create-a-directory-for-this-workshop), we can now create a sub-directory.\n",
    "\n",
    "We have now launched Jupyter and can see our Home directory in the Web browser. Go to the “Workshop” directory. For creating a new sub-directory, press the button *New* at the top right and select *Folder*. This will create a new directory, called “Untitled folder”. Check it and rename it “Notebooks”, as in the image below.\n",
    "<img src=\"images/rename-dir.png\" width=\"80%\" style=\"border:1px solid\">\n",
    "\n",
    "\n",
    "## Create a new notebook\n",
    "\n",
    "Now we have Jupyter running and we have a new directory for our notebooks. Navigate to the new directory (the one that you renamed as “Workshop” or “Notebooks”) and press the *New* button again: this time select *Python 3* or *Python [default]* from the menu.\n",
    "\n",
    "<img src=\"images/new-notebook.png\" alt=\"New notebook\" width=\"80%\" style=\"border:1px solid\"/>\n",
    "\n",
    "By default this will create a new notebook with a name like “Untitled” - we can rename it immediately by clicking on the name at the top (beside the Jupyter logo) and providing another name in the dialog box that appears. This is the actual filename (without the file extension) and we’ll use the file naming conventions explained in the [Command line tutorial](naming).\n",
    "\n",
    "This is probably as good a time as any to step through the “User Interface Tour” that’s available from the Help menu of the Jupyter interface (the File menu within the notebook page, not the File menu of the browser).\n",
    "\n",
    "\n",
    "## Editing modes\n",
    "\n",
    "We’ve created a new notebook and had a quick tour of the Juypter interface, now we’re ready to edit. Jupyter has two main editing modes:\n",
    "\n",
    "1. **Markdown**: this is the styled text mode that we use when we’re not writing python code\n",
    "1. **Code**: this is the default mode used for python code and we’ll see it in the next section\n",
    "\n",
    "\n",
    "### Markdown Cells\n",
    "\n",
    "Markdown is the format used for text (not code) in Jupyter. Markdown is intended to be more succinct and simpler to read and write than HTML (the system converts Markdown automatically to HTML for display in the browser). For instance, we can easily create headers by using one or more hash (#) symbols at the beginning of a line, we can easily have text appear in **\\*\\*bold\\*\\*** or \\__italics_\\_, paragraphs are created from newlines, and links like http://python.org/ appear automatically as links. Another powerful feature is the creation of lists. For instance, we can create a bulleted list by putting an asterisk in front of every item or a numbered list by putting 1. in front of each item (the numbering will increase automatically).\n",
    "\n",
    "We will now go to the first editing box and select _Markdown_ mode from the format menu, then type the following text, as in the image below:\n",
    "\n",
    "    # Getting started!\n",
    "    This is _Hello World!_, my first iPython Notebook.\n",
    "\n",
    "<img src=\"images/markdown-cell.png\" alt=\"Markdown cell\" width=\"50%\" style=\"border:1px solid\"/>\n",
    "\n",
    "Now you can render the markdown, which is the same as run the code. You have multiple options for the command “run cell, select below”:\n",
    "- press the corresponding button on the toolbar (right-pointing triangle)\n",
    "- click on the Cell menu and then select *run cells* or *run cells and select below* \n",
    "- hit Shift+Enter\n",
    "\n",
    "\n",
    "### Code Cells\n",
    "\n",
    "Go to the following editing box (or insert another one using *Insert cell below* from the Insert Menu or pressing the button “+” in the toolbar). The default mode for an editing box is *Code*, so you don’t need to change the editing mode as we did for Markdown. \n",
    "\n",
    "Our first bit of code is going to follow tradition: what better place to start than the classic [_Hello World!_](http://en.wikipedia.org/wiki/%22Hello,_world!%22_program_) program. It’s easy to describe what we want to do for our _Hello World!_ program: we want to write code that will display the string (or sequence of characters) “Hello World!”.\n",
    "Let’s use the `print` function and indicate that “Hello world” is a string using the double quotes:\n",
    "\n",
    "    print(\"Hello world!\")\n",
    "\n",
    "The result should appear, as here below."
   ]
  },
  {
   "cell_type": "code",
   "execution_count": 21,
   "metadata": {
    "collapsed": false
   },
   "outputs": [
    {
     "name": "stdout",
     "output_type": "stream",
     "text": [
      "Hello world!\n"
     ]
    }
   ],
   "source": [
    "print(\"Hello world!\")"
   ]
  },
  {
   "cell_type": "markdown",
   "metadata": {},
   "source": [
    "Yay, our first program! That was easy, wasn’t it? :)\n",
    "\n",
    "Try to remove the double quotes around *Hello world* and run the code again:\n",
    "\n",
    "    print(Hello world!)\n",
    "\n",
    "You will get an error message, because the syntax of your code is not correct.\n",
    "\n",
    "The sequence above shows a key aspect of Jupyter code cells: there’s an **input section** and an **output section**: the input section is where you write the code and is indicated on the left of the editing box with the word “In” followed by a number in square brackets; the output section is where the result of running your code will appear, below the input section."
   ]
  },
  {
   "cell_type": "markdown",
   "metadata": {},
   "source": [
    "## Save\n",
    "\n",
    "If we have been working on a notebook, we would of course want to save our work before quitting. For saving the notebook you are working on, you have again several options:\n",
    "- press the file icon, that is the first button on the left\n",
    "- select *Save and checkpoint* from the File menu\n",
    "- hit Ctrl+s\n",
    "\n",
    "## Download\n",
    "\n",
    "You can download the notebook in different formats (menu File > Download as).\n",
    "\n",
    "\n",
    "## Quit Jupyter\n",
    "\n",
    "The browser window opened when Jupyter was launched is just a regular window. For quitting Jupyter we can close the browser window(s) opened by Jupyter, then switch to the terminal and follow the instruction:\n",
    "\n",
    "    Use Control-C to stop this server and shut down all kernels (twice to skip confirmation).\n",
    "    \n",
    "    \n",
    "## Where are my notebooks\n",
    "\n",
    "Now that we’ve quit Jupyter, the directory that we created using the Jupyter interface is still there where we put it: in the subdirectory “Notebooks” of our “Workshop” directory, and we can access it with `cd`, just like any other directory. The new notebook is inside. Go and check!\n",
    "\n",
    "To summarize, everything that we do through the Jupyter interface is stored locally on our computer. Just remember that in order to open and edit the notebooks, we have to launch Jupyter again!"
   ]
  },
  {
   "cell_type": "markdown",
   "metadata": {},
   "source": [
    "## More (optional)\n",
    "\n",
    "During the workshop we will run commands like the following. You can give it a try: copy paste the code below into a new code cell, run it, and see the result.\n",
    "\n",
    "<!-- commented out, because it was for the previous version of the tutorial.\n",
    "\n",
    "To work with IPython notebook, on the web page that opens when you launch the program drop down the button labeled “New” in the upper right and select “Python 3”. We’ll describe how to use IPython notebook in the workshop, but if you already know a bit of Python, you can type Python commands into an empty cell and click the Run button (right-pointing triangle in the menu bar) or type Shift-Enter. The results of running your program will appear immediately below your code. For example, try typing the following into a cell in IPython notebook: -->"
   ]
  },
  {
   "cell_type": "code",
   "execution_count": 22,
   "metadata": {
    "collapsed": false
   },
   "outputs": [
    {
     "name": "stdout",
     "output_type": "stream",
     "text": [
      "+---+-----+-------+--------------------------+------+------+\n",
      "| A | The | quick | brown fox jumps over the | -    | dog. |\n",
      "| B | The | -     | brown fox jumps over the | lazy | dog. |\n",
      "+---+-----+-------+--------------------------+------+------+\n"
     ]
    }
   ],
   "source": [
    "from collatex import *\n",
    "collation = Collation()\n",
    "collation.add_plain_witness(\"A\", \"The quick brown fox jumps over the dog.\")\n",
    "collation.add_plain_witness(\"B\", \"The brown fox jumps over the lazy dog.\")\n",
    "alignment_table = collate(collation)\n",
    "print(alignment_table)"
   ]
  },
  {
   "cell_type": "markdown",
   "metadata": {},
   "source": [
    "To test your Graphviz integration, type into another code cell the following and run the code:"
   ]
  },
  {
   "cell_type": "code",
   "execution_count": 23,
   "metadata": {
    "collapsed": false
   },
   "outputs": [
    {
     "data": {
      "image/svg+xml": [
       "<svg height=\"142pt\" viewBox=\"0.00 0.00 992.00 142.00\" width=\"992pt\" xmlns=\"http://www.w3.org/2000/svg\" xmlns:xlink=\"http://www.w3.org/1999/xlink\">\n",
       "<g class=\"graph\" id=\"graph0\" transform=\"scale(1 1) rotate(0) translate(4 138)\">\n",
       "<title>%3</title>\n",
       "<polygon fill=\"white\" points=\"-4,4 -4,-138 988,-138 988,4 -4,4\" stroke=\"none\"/>\n",
       "<!-- 1 -->\n",
       "<g class=\"node\" id=\"node1\"><title>1</title>\n",
       "<polygon fill=\"none\" points=\"342,-134 248,-134 248,-82 342,-82 342,-134\" stroke=\"black\"/>\n",
       "<polygon fill=\"none\" points=\"257,-108 257,-129 297,-129 297,-108 257,-108\" stroke=\"black\"/>\n",
       "<text font-family=\"Times,serif\" font-size=\"14.00\" font-weight=\"bold\" text-anchor=\"start\" x=\"260\" y=\"-115.8\">quick</text>\n",
       "<polygon fill=\"none\" points=\"297,-108 297,-129 333,-129 333,-108 297,-108\" stroke=\"black\"/>\n",
       "<text font-family=\"Times,serif\" font-size=\"14.00\" font-weight=\"bold\" text-anchor=\"start\" x=\"300\" y=\"-115.8\">Sigla</text>\n",
       "<polygon fill=\"none\" points=\"257,-87 257,-108 297,-108 297,-87 257,-87\" stroke=\"black\"/>\n",
       "<text font-family=\"Bukyvede\" font-size=\"14.00\" text-anchor=\"start\" x=\"260\" y=\"-93.8\">quick </text>\n",
       "<polygon fill=\"none\" points=\"297,-87 297,-108 333,-108 333,-87 297,-87\" stroke=\"black\"/>\n",
       "<text font-family=\"Times,serif\" font-size=\"14.00\" text-anchor=\"start\" x=\"300\" y=\"-93.8\">A</text>\n",
       "<polygon fill=\"none\" points=\"256,-86 256,-130 334,-130 334,-86 256,-86\" stroke=\"black\"/>\n",
       "</g>\n",
       "<!-- 7 -->\n",
       "<g class=\"node\" id=\"node7\"><title>7</title>\n",
       "<polygon fill=\"none\" points=\"603,-98 389,-98 389,-46 603,-46 603,-98\" stroke=\"black\"/>\n",
       "<polygon fill=\"none\" points=\"398,-72 398,-93 558,-93 558,-72 398,-72\" stroke=\"black\"/>\n",
       "<text font-family=\"Times,serif\" font-size=\"14.00\" font-weight=\"bold\" text-anchor=\"start\" x=\"401\" y=\"-79.8\">brown fox jumps over the</text>\n",
       "<polygon fill=\"none\" points=\"558,-72 558,-93 594,-93 594,-72 558,-72\" stroke=\"black\"/>\n",
       "<text font-family=\"Times,serif\" font-size=\"14.00\" font-weight=\"bold\" text-anchor=\"start\" x=\"561\" y=\"-79.8\">Sigla</text>\n",
       "<polygon fill=\"none\" points=\"398,-51 398,-72 558,-72 558,-51 398,-51\" stroke=\"black\"/>\n",
       "<text font-family=\"Bukyvede\" font-size=\"14.00\" text-anchor=\"start\" x=\"401\" y=\"-57.8\">brown fox jumps over the </text>\n",
       "<polygon fill=\"none\" points=\"558,-51 558,-72 594,-72 594,-51 558,-51\" stroke=\"black\"/>\n",
       "<text font-family=\"Times,serif\" font-size=\"14.00\" text-anchor=\"start\" x=\"561\" y=\"-57.8\">B, A</text>\n",
       "<polygon fill=\"none\" points=\"397,-50 397,-94 595,-94 595,-50 397,-50\" stroke=\"black\"/>\n",
       "</g>\n",
       "<!-- 1&#45;&gt;7 -->\n",
       "<g class=\"edge\" id=\"edge1\"><title>1-&gt;7</title>\n",
       "<path d=\"M342.155,-99.6504C353.409,-97.6145 365.955,-95.3448 378.887,-93.0053\" fill=\"none\" stroke=\"black\"/>\n",
       "<polygon fill=\"black\" points=\"379.619,-96.4298 388.836,-91.2055 378.373,-89.5416 379.619,-96.4298\" stroke=\"black\"/>\n",
       "<text font-family=\"Times,serif\" font-size=\"14.00\" text-anchor=\"middle\" x=\"365.5\" y=\"-99.8\">A</text>\n",
       "</g>\n",
       "<!-- 2 -->\n",
       "<g class=\"node\" id=\"node2\"><title>2</title>\n",
       "<polygon fill=\"none\" points=\"54,-83 0,-83 0,-47 54,-47 54,-83\" stroke=\"black\"/>\n",
       "<text font-family=\"Times,serif\" font-size=\"14.00\" text-anchor=\"middle\" x=\"27\" y=\"-61.3\">2</text>\n",
       "</g>\n",
       "<!-- 4 -->\n",
       "<g class=\"node\" id=\"node4\"><title>4</title>\n",
       "<polygon fill=\"none\" points=\"201,-91 117,-91 117,-39 201,-39 201,-91\" stroke=\"black\"/>\n",
       "<polygon fill=\"none\" points=\"126,-65 126,-86 156,-86 156,-65 126,-65\" stroke=\"black\"/>\n",
       "<text font-family=\"Times,serif\" font-size=\"14.00\" font-weight=\"bold\" text-anchor=\"start\" x=\"129\" y=\"-72.8\">The</text>\n",
       "<polygon fill=\"none\" points=\"156,-65 156,-86 192,-86 192,-65 156,-65\" stroke=\"black\"/>\n",
       "<text font-family=\"Times,serif\" font-size=\"14.00\" font-weight=\"bold\" text-anchor=\"start\" x=\"159\" y=\"-72.8\">Sigla</text>\n",
       "<polygon fill=\"none\" points=\"126,-44 126,-65 156,-65 156,-44 126,-44\" stroke=\"black\"/>\n",
       "<text font-family=\"Bukyvede\" font-size=\"14.00\" text-anchor=\"start\" x=\"129\" y=\"-50.8\">The </text>\n",
       "<polygon fill=\"none\" points=\"156,-44 156,-65 192,-65 192,-44 156,-44\" stroke=\"black\"/>\n",
       "<text font-family=\"Times,serif\" font-size=\"14.00\" text-anchor=\"start\" x=\"159\" y=\"-50.8\">B, A</text>\n",
       "<polygon fill=\"none\" points=\"125,-43 125,-87 193,-87 193,-43 125,-43\" stroke=\"black\"/>\n",
       "</g>\n",
       "<!-- 2&#45;&gt;4 -->\n",
       "<g class=\"edge\" id=\"edge2\"><title>2-&gt;4</title>\n",
       "<path d=\"M54.3074,-65C69.3864,-65 88.8333,-65 106.804,-65\" fill=\"none\" stroke=\"black\"/>\n",
       "<polygon fill=\"black\" points=\"106.884,-68.5001 116.884,-65 106.884,-61.5001 106.884,-68.5001\" stroke=\"black\"/>\n",
       "<text font-family=\"Times,serif\" font-size=\"14.00\" text-anchor=\"middle\" x=\"85.5\" y=\"-68.8\">A, B</text>\n",
       "</g>\n",
       "<!-- 3 -->\n",
       "<g class=\"node\" id=\"node3\"><title>3</title>\n",
       "<polygon fill=\"none\" points=\"984,-83 930,-83 930,-47 984,-47 984,-83\" stroke=\"black\"/>\n",
       "<text font-family=\"Times,serif\" font-size=\"14.00\" text-anchor=\"middle\" x=\"957\" y=\"-61.3\">3</text>\n",
       "</g>\n",
       "<!-- 4&#45;&gt;1 -->\n",
       "<g class=\"edge\" id=\"edge3\"><title>4-&gt;1</title>\n",
       "<path d=\"M201.298,-78.2523C212.948,-81.9908 225.82,-86.1214 238.171,-90.0849\" fill=\"none\" stroke=\"black\"/>\n",
       "<polygon fill=\"black\" points=\"237.34,-93.4939 247.932,-93.2169 239.479,-86.8287 237.34,-93.4939\" stroke=\"black\"/>\n",
       "<text font-family=\"Times,serif\" font-size=\"14.00\" text-anchor=\"middle\" x=\"224.5\" y=\"-89.8\">A</text>\n",
       "</g>\n",
       "<!-- 4&#45;&gt;7 -->\n",
       "<g class=\"edge\" id=\"edge4\"><title>4-&gt;7</title>\n",
       "<path d=\"M201.147,-61.0473C215.908,-59.8093 232.686,-58.6081 248,-58 289.745,-56.3423 300.266,-56.0946 342,-58 353.984,-58.5472 366.48,-59.3342 378.938,-60.2599\" fill=\"none\" stroke=\"black\"/>\n",
       "<polygon fill=\"black\" points=\"378.67,-63.7496 388.91,-61.0302 379.21,-56.7704 378.67,-63.7496\" stroke=\"black\"/>\n",
       "<text font-family=\"Times,serif\" font-size=\"14.00\" text-anchor=\"middle\" x=\"295\" y=\"-61.8\">B</text>\n",
       "</g>\n",
       "<!-- 5 -->\n",
       "<g class=\"node\" id=\"node5\"><title>5</title>\n",
       "<polygon fill=\"none\" points=\"867,-91 781,-91 781,-39 867,-39 867,-91\" stroke=\"black\"/>\n",
       "<polygon fill=\"none\" points=\"790,-65 790,-86 822,-86 822,-65 790,-65\" stroke=\"black\"/>\n",
       "<text font-family=\"Times,serif\" font-size=\"14.00\" font-weight=\"bold\" text-anchor=\"start\" x=\"793\" y=\"-72.8\">dog.</text>\n",
       "<polygon fill=\"none\" points=\"822,-65 822,-86 858,-86 858,-65 822,-65\" stroke=\"black\"/>\n",
       "<text font-family=\"Times,serif\" font-size=\"14.00\" font-weight=\"bold\" text-anchor=\"start\" x=\"825\" y=\"-72.8\">Sigla</text>\n",
       "<polygon fill=\"none\" points=\"790,-44 790,-65 822,-65 822,-44 790,-44\" stroke=\"black\"/>\n",
       "<text font-family=\"Bukyvede\" font-size=\"14.00\" text-anchor=\"start\" x=\"793\" y=\"-50.8\">dog.</text>\n",
       "<polygon fill=\"none\" points=\"822,-44 822,-65 858,-65 858,-44 822,-44\" stroke=\"black\"/>\n",
       "<text font-family=\"Times,serif\" font-size=\"14.00\" text-anchor=\"start\" x=\"825\" y=\"-50.8\">B, A</text>\n",
       "<polygon fill=\"none\" points=\"789,-43 789,-87 859,-87 859,-43 789,-43\" stroke=\"black\"/>\n",
       "</g>\n",
       "<!-- 5&#45;&gt;3 -->\n",
       "<g class=\"edge\" id=\"edge5\"><title>5-&gt;3</title>\n",
       "<path d=\"M867.17,-65C884.105,-65 903.432,-65 919.725,-65\" fill=\"none\" stroke=\"black\"/>\n",
       "<polygon fill=\"black\" points=\"919.938,-68.5001 929.937,-65 919.937,-61.5001 919.938,-68.5001\" stroke=\"black\"/>\n",
       "<text font-family=\"Times,serif\" font-size=\"14.00\" text-anchor=\"middle\" x=\"898.5\" y=\"-68.8\">A, B</text>\n",
       "</g>\n",
       "<!-- 6 -->\n",
       "<g class=\"node\" id=\"node6\"><title>6</title>\n",
       "<polygon fill=\"none\" points=\"735,-52 649,-52 649,-0 735,-0 735,-52\" stroke=\"black\"/>\n",
       "<polygon fill=\"none\" points=\"658,-26 658,-47 690,-47 690,-26 658,-26\" stroke=\"black\"/>\n",
       "<text font-family=\"Times,serif\" font-size=\"14.00\" font-weight=\"bold\" text-anchor=\"start\" x=\"661\" y=\"-33.8\">lazy</text>\n",
       "<polygon fill=\"none\" points=\"690,-26 690,-47 726,-47 726,-26 690,-26\" stroke=\"black\"/>\n",
       "<text font-family=\"Times,serif\" font-size=\"14.00\" font-weight=\"bold\" text-anchor=\"start\" x=\"693\" y=\"-33.8\">Sigla</text>\n",
       "<polygon fill=\"none\" points=\"658,-5 658,-26 690,-26 690,-5 658,-5\" stroke=\"black\"/>\n",
       "<text font-family=\"Bukyvede\" font-size=\"14.00\" text-anchor=\"start\" x=\"661\" y=\"-11.8\">lazy </text>\n",
       "<polygon fill=\"none\" points=\"690,-5 690,-26 726,-26 726,-5 690,-5\" stroke=\"black\"/>\n",
       "<text font-family=\"Times,serif\" font-size=\"14.00\" text-anchor=\"start\" x=\"693\" y=\"-11.8\">B</text>\n",
       "<polygon fill=\"none\" points=\"657,-4 657,-48 727,-48 727,-4 657,-4\" stroke=\"black\"/>\n",
       "</g>\n",
       "<!-- 6&#45;&gt;5 -->\n",
       "<g class=\"edge\" id=\"edge6\"><title>6-&gt;5</title>\n",
       "<path d=\"M735.207,-38.6622C746.56,-42.0679 758.974,-45.7923 770.8,-49.3401\" fill=\"none\" stroke=\"black\"/>\n",
       "<polygon fill=\"black\" points=\"769.976,-52.7467 780.56,-52.2679 771.987,-46.0419 769.976,-52.7467\" stroke=\"black\"/>\n",
       "<text font-family=\"Times,serif\" font-size=\"14.00\" text-anchor=\"middle\" x=\"758\" y=\"-50.8\">B</text>\n",
       "</g>\n",
       "<!-- 7&#45;&gt;5 -->\n",
       "<g class=\"edge\" id=\"edge8\"><title>7-&gt;5</title>\n",
       "<path d=\"M603.294,-69.7176C659.317,-68.5147 725.55,-67.0925 770.539,-66.1265\" fill=\"none\" stroke=\"black\"/>\n",
       "<polygon fill=\"black\" points=\"770.728,-69.6233 780.651,-65.9093 770.578,-62.6249 770.728,-69.6233\" stroke=\"black\"/>\n",
       "<text font-family=\"Times,serif\" font-size=\"14.00\" text-anchor=\"middle\" x=\"692\" y=\"-71.8\">A</text>\n",
       "</g>\n",
       "<!-- 7&#45;&gt;6 -->\n",
       "<g class=\"edge\" id=\"edge7\"><title>7-&gt;6</title>\n",
       "<path d=\"M603.082,-46.8466C615.408,-43.9238 627.537,-41.0479 638.663,-38.4098\" fill=\"none\" stroke=\"black\"/>\n",
       "<polygon fill=\"black\" points=\"639.653,-41.7722 648.576,-36.0594 638.038,-34.961 639.653,-41.7722\" stroke=\"black\"/>\n",
       "<text font-family=\"Times,serif\" font-size=\"14.00\" text-anchor=\"middle\" x=\"626\" y=\"-46.8\">B</text>\n",
       "</g>\n",
       "</g>\n",
       "</svg>"
      ],
      "text/plain": [
       "<IPython.core.display.SVG object>"
      ]
     },
     "metadata": {},
     "output_type": "display_data"
    }
   ],
   "source": [
    "collate(collation,output=\"svg\")"
   ]
  },
  {
   "cell_type": "markdown",
   "metadata": {},
   "source": [
    "A graphic representation of the collation should appear below the cell (your font may look different from the one in the tutorial)."
   ]
  },
  {
   "cell_type": "markdown",
   "metadata": {},
   "source": [
    "## More about Jupyter notebook\n",
    "available through the official [Jupyter](https://jupyter.org/) page."
   ]
  },
  {
   "cell_type": "markdown",
   "metadata": {},
   "source": [
    "---\n",
    "Note: this tutorial is built upon the IPython section in the [CollateX workshop](http://collatex.obdurodon.org/) Installation tutorial and upon the first chapters (*Getting setup* and *Getting started*) of [The Art of Literary Text Analysis](http://nbviewer.jupyter.org/github/sgsinclair/alta/blob/master/ipynb/ArtOfLiteraryTextAnalysis.ipynb) by Stéfan Sinclair & Geoffrey Rockwell, with modifications.\n",
    "\n",
    "[CC BY-SA](https://creativecommons.org/licenses/by-sa/4.0/) From DiXiT Code and collation workshop.<br/>\n",
    "Created October 10, 2016 and last modified October 12, 2016"
   ]
  }
 ],
 "metadata": {
  "anaconda-cloud": {},
  "kernelspec": {
   "display_name": "Python 3",
   "language": "python",
   "name": "python3"
  },
  "language_info": {
   "codemirror_mode": {
    "name": "ipython",
    "version": 3
   },
   "file_extension": ".py",
   "mimetype": "text/x-python",
   "name": "python",
   "nbconvert_exporter": "python",
   "pygments_lexer": "ipython3",
   "version": "3.5.2"
  }
 },
 "nbformat": 4,
 "nbformat_minor": 0
}
