{
 "cells": [
  {
   "cell_type": "markdown",
   "metadata": {},
   "source": [
    "Running Python on your own computer\n",
    "===================\n",
    "\n",
    "Today we will combine what we learned in lesson 1 about our own computers systems with what we have been learning in Codecademy about Python, and look at the different ways you can run Python programs on your own computer. There are essentially four ways to do this:\n",
    "\n",
    "- Run `python` at the command line, as another shell. (Remember what a shell is?)\n",
    "- Write a program into a file and then run Python with that filename as an argument (e.g. `python myprogram.py`)\n",
    "- Run Python in a *notebook* such as this one\n",
    "- Run Python in a graphical program for developers, known as an *IDE*\n",
    "\n",
    "Go ahead and open a Powershell / Terminal window, and run the `python` command. You will see something like this:\n",
    "\n",
    "    MacBook-Pro-2:TT2016 tla$ python\n",
    "    Python 3.4.4 (default, Jan  5 2016, 13:43:49) \n",
    "    [GCC 4.2.1 Compatible Apple LLVM 7.0.2 (clang-700.1.81)] on darwin\n",
    "    Type \"help\", \"copyright\", \"credits\" or \"license\" for more information.\n",
    "    >>> \n",
    "    \n",
    "Observe that the prompt has changed - those three arrows are now the signal that the program is ready to listen to you.\n",
    "\n",
    "Now we can try something simple:"
   ]
  },
  {
   "cell_type": "code",
   "execution_count": 24,
   "metadata": {
    "collapsed": false
   },
   "outputs": [
    {
     "name": "stdout",
     "output_type": "stream",
     "text": [
      "Hello, world!\n"
     ]
    }
   ],
   "source": [
    "print('Hello, world!')"
   ]
  },
  {
   "cell_type": "markdown",
   "metadata": {},
   "source": [
    "You can also write a program into a file and then execute it like so:\n",
    "\n",
    "    MacBook-Pro-2:~ tla$ cat Documents/test.py \n",
    "    print(\"Hello, this is a test and it works!\")\n",
    "    MacBook-Pro-2:~ tla$ python Documents/test.py \n",
    "    Hello, this is a test and it works!\n",
    "    \n",
    "As we will learn later, it is possible to give more arguments at the command line, which your Python program can use to do other things. Usually if you are given a Python program by someone else, this is how you will run it.\n",
    "\n",
    "You can also run Python in a notebook like this one. \n",
    "\n",
    "    PS C:\\Users\\Tara L Andrews> jupyter notebook\n",
    "    [I 08:33:23.342 NotebookApp] Serving notebooks from local directory: C:\\Users\\Tara L Andrews\n",
    "    [I 08:33:23.342 NotebookApp] 0 active kernels\n",
    "    [I 08:33:23.342 NotebookApp] The Jupyter Notebook is running at: http://localhost:8888/\n",
    "    [I 08:33:23.342 NotebookApp] Use Control-C to stop this server and shut down all kernels (twice to skip confirmation).\n",
    "\n",
    "Your command prompt won't come back, but instead a web browser window will open and you will be able to make a new notebook document much like this one."
   ]
  },
  {
   "cell_type": "code",
   "execution_count": 25,
   "metadata": {
    "collapsed": false
   },
   "outputs": [
    {
     "name": "stdout",
     "output_type": "stream",
     "text": [
      "Let's party like it's 2015\n"
     ]
    }
   ],
   "source": [
    "year = 2015\n",
    "print(\"Let's party like it's\", year)"
   ]
  },
  {
   "cell_type": "markdown",
   "metadata": {},
   "source": [
    "Just like the Python interactive shell (and **unlike** running a Python program from a file), the IPython notebook remembers everything you define until you restart it. This is why we call them \"interactive\" - you can define things, look at them, and then do things with them without having to start over every time."
   ]
  },
  {
   "cell_type": "code",
   "execution_count": 27,
   "metadata": {
    "collapsed": false
   },
   "outputs": [
    {
     "name": "stdout",
     "output_type": "stream",
     "text": [
      "Now we are partying like it's 2017\n"
     ]
    }
   ],
   "source": [
    "year += 1\n",
    "print(\"Now we are partying like it's\", year)"
   ]
  },
  {
   "cell_type": "markdown",
   "metadata": {},
   "source": [
    "The fourth way to run Python, which is fairly complex-looking at first but becomes much more useful the more you program, is through an IDE. When you installed Anaconda you got an IDE called \"Spyder\" along with it. Go ahead and start it up and have a look around. Open the Python file you ran at the command line a while ago, and run it in Spyder.\n",
    "\n",
    "Spyder is also a non-interactive version of Python - when you run a program, it starts over fresh from the beginning and forgets everything that you ran before. However, like all IDEs Spyder has a *debugger*, which means that you can stop the program in the middle and have a closer look at what it is doing!\n",
    "\n",
    "Getting around your filesystem from Python\n",
    "------------\n",
    "\n",
    "You have seen that Spyder asks you questions about your \"working directory\", and that it starts you with a temporary file in some crazy location you don't want to remember. This is a good moment to talk about how Python works with the filesystem that we learned about in week 1.\n",
    "\n",
    "Python has a bunch of tools for interacting with your operating system, and they are all in the `os` module. We can get access to it with the following line of code:"
   ]
  },
  {
   "cell_type": "code",
   "execution_count": 28,
   "metadata": {
    "collapsed": true
   },
   "outputs": [],
   "source": [
    "import os"
   ]
  },
  {
   "cell_type": "markdown",
   "metadata": {},
   "source": [
    "We can list the contents of any directory by using the `os.listdir()` method. Without any arguments, it gives us the contents of the directory we are standing in."
   ]
  },
  {
   "cell_type": "code",
   "execution_count": 29,
   "metadata": {
    "collapsed": false
   },
   "outputs": [
    {
     "data": {
      "text/plain": [
       "['.adobe',\n",
       " '.astropy',\n",
       " '.bash_history',\n",
       " '.bash_sessions',\n",
       " '.pip',\n",
       " '.profile',\n",
       " '.Xauthority',\n",
       " '644_col.txt',\n",
       " 'a',\n",
       " 'anaconda',\n",
       " 'Applications',\n",
       " 'Desktop',\n",
       " 'Docear',\n",
       " 'DocLocal',\n",
       " 'Documents',\n",
       " 'DocVC',\n",
       " 'Downloads',\n",
       " 'Dropbox',\n",
       " 'Library',\n",
       " 'Movies',\n",
       " 'Music',\n",
       " 'www']"
      ]
     },
     "execution_count": 29,
     "metadata": {},
     "output_type": "execute_result"
    }
   ],
   "source": [
    "os.listdir()"
   ]
  },
  {
   "cell_type": "markdown",
   "metadata": {},
   "source": [
    "We can also list the contents of any other directory. For example, the Downloads folder on my Mac is in the folder with my short name (tla), which is in a folder called Users, which is right on the Macintosh HD. So I say\n",
    "\n",
    "    /Users/tla/Downloads\n",
    "\n",
    "to get at it. That is: Starting at the root (/), look in Users; starting at Users (/Users/), look in tla; starting at tla (/Users/tla/), look in Downloads. \n",
    "\n",
    "If you are on Windows you will probably want something like `/Users/Tara Andrews/Downloads` instead.\n",
    "\n",
    "Let's print out each of the filenames we find in that directory."
   ]
  },
  {
   "cell_type": "code",
   "execution_count": 30,
   "metadata": {
    "collapsed": false
   },
   "outputs": [
    {
     "name": "stdout",
     "output_type": "stream",
     "text": [
      ".DS_Store\n",
      "About Downloads.lpdf\n",
      "AM2004.rtf\n",
      "AM2004.txt\n",
      "Anaconda3-2.5.0-MacOSX-x86_64.pkg\n",
      "ANAST. SIN. Homilia dicta in sextum psalmum. Rec. II.xml\n",
      "Head_First_Java_Second_Edition.epub\n",
      "hearingsdigitalhumanities1.doc\n",
      "world_innodb.sql\n"
     ]
    }
   ],
   "source": [
    "for f in os.listdir(\"/Users/tla/Downloads\"):\n",
    "    print(f)"
   ]
  },
  {
   "cell_type": "markdown",
   "metadata": {},
   "source": [
    "Python (or any program running on your computer for that matter) always runs from some specific place in this filesystem - that is, some specific directory on your drive. To see where you are running now, you can ask for the *current working directory*, like so. Try this command in Python at the command line, in IPython, and in Spyder, and see what you get."
   ]
  },
  {
   "cell_type": "code",
   "execution_count": 32,
   "metadata": {
    "collapsed": false
   },
   "outputs": [
    {
     "data": {
      "text/plain": [
       "'/Users/tla'"
      ]
     },
     "execution_count": 32,
     "metadata": {},
     "output_type": "execute_result"
    }
   ],
   "source": [
    "os.getcwd()"
   ]
  },
  {
   "cell_type": "markdown",
   "metadata": {},
   "source": [
    "This will look a little different on Mac vs. Windows, because they use different notations (called the *path*) for their directory structure.\n",
    "\n",
    "    C:\\Users\\Tara L Andrews\\Documents\\IPython Notebooks\n",
    "\n",
    "vs. \n",
    "\n",
    "    /Users/tla/Documents/2014 FS\n",
    "    \n",
    "The two important lessons to take from this are:\n",
    "\n",
    "* If you are not sure where you are, then `os.getcwd()` will tell you.\n",
    "* If you value your sanity, don't use / or \\ when you name your folders and files.\n",
    "\n",
    "Once you know where you are on the filesystem, you can change directory. This is accomplished with the `os.chdir()` method. For example:"
   ]
  },
  {
   "cell_type": "code",
   "execution_count": 33,
   "metadata": {
    "collapsed": false
   },
   "outputs": [
    {
     "name": "stdout",
     "output_type": "stream",
     "text": [
      "/Users\n",
      "/Users/tla/Downloads\n"
     ]
    }
   ],
   "source": [
    "os.chdir(\"/Users/tla\")   # go to the directory tla in the directory Users at the base of the drive\n",
    "os.chdir(\"..\")           # go one directory down\n",
    "print(os.getcwd())       # see where we are\n",
    "\n",
    "os.chdir(\"./tla/Downloads\")  # go to the directory Downloads in the directory tla that is here where we are\n",
    "print(os.getcwd())           # see where we are now"
   ]
  },
  {
   "cell_type": "markdown",
   "metadata": {},
   "source": [
    "You will remember that there are a few special names when you look at files and directories:\n",
    "\n",
    "    .  - the directory I'm standing in\n",
    "    .. - the directory that holds the directory I'm standing in\n",
    "    /  - (all by itself) the base (\"root\") directory\n",
    "    \n",
    "**IF YOU ARE ON WINDOWS:** The / is a little more complicated than that if you are on Windows. As you will have noticed, you often see \\ instead of /, but Python (like Powershell) lets you call it / anyway. Moreover, it is the base directory of the drive you are currently looking at (e.g. C:, D:, or whatever.) \n",
    "\n",
    "**IF YOU ARE ON MAC OR LINUX:** Unix machines (including Macs) don't deal with drives in the same way, so / just means the root of your OS filesystem.\n",
    "    \n",
    "So by saying\n",
    "\n",
    "    os.chdir(\"..\")\n",
    "    \n",
    "we have moved down a directory. We could keep doing this all the way to the bottom, if we felt like it. But generally it is a good idea to stay in your home directory if you have the choice.\n",
    "\n",
    "Here is how Python knows what your home directory is:"
   ]
  },
  {
   "cell_type": "code",
   "execution_count": 34,
   "metadata": {
    "collapsed": false
   },
   "outputs": [
    {
     "name": "stdout",
     "output_type": "stream",
     "text": [
      "/Users/tla\n",
      "I don't have a USERPROFILE variable, so I must be on Mac or Linux\n"
     ]
    }
   ],
   "source": [
    "print(os.getenv(\"HOME\", \"I don't have a HOME variable, so I must be on Windows\"))\n",
    "print(os.getenv(\"USERPROFILE\", \"I don't have a USERPROFILE variable, so I must be on Mac or Linux\" )) "
   ]
  },
  {
   "cell_type": "markdown",
   "metadata": {},
   "source": [
    "Once you know which variable contains your home directory, you can save it into a variable and use it."
   ]
  },
  {
   "cell_type": "code",
   "execution_count": 35,
   "metadata": {
    "collapsed": false
   },
   "outputs": [
    {
     "name": "stdout",
     "output_type": "stream",
     "text": [
      ".adobe\n",
      ".astropy\n",
      ".bash_history\n",
      ".bash_sessions\n",
      ".pip\n",
      ".profile\n",
      ".Xauthority\n",
      "anaconda\n",
      "Applications\n",
      "beer.pl\n",
      "bifurc.png\n",
      "caesar.dot\n",
      "caesar.svg\n",
      "caesar.xml\n",
      "caesar.zip\n",
      "cloud_reinstallation.txt\n",
      "CloudStation\n",
      "collatex\n",
      "demo\n",
      "Desktop\n",
      "Docear\n",
      "DocLocal\n",
      "Documents\n",
      "DocVC\n",
      "Downloads\n",
      "Dropbox\n",
      "Library\n",
      "Movies\n",
      "Music\n",
      "Projects\n",
      "Public\n",
      "pubs.bib\n",
      "restored.txt\n",
      "scratch\n",
      "smbat_410.txt\n",
      "V917\n",
      "www\n"
     ]
    }
   ],
   "source": [
    "my_home = os.getenv(\"HOME\")\n",
    "for f in os.listdir( my_home ):\n",
    "    print(f)"
   ]
  },
  {
   "cell_type": "markdown",
   "metadata": {},
   "source": [
    "Now, if I want to, I can look to see what we have in my Projects folder - this is where I usually keep the code I've worked on. I can do this by *joining* the directory name ('Projects') to my home directory (which I've saved in `my_home`.)"
   ]
  },
  {
   "cell_type": "code",
   "execution_count": null,
   "metadata": {
    "collapsed": false
   },
   "outputs": [],
   "source": [
    "doc_path = os.path.join( my_home, \"Projects\" )\n",
    "print( \"The join operation has given me the path\", doc_path )\n",
    "os.listdir( doc_path )"
   ]
  },
  {
   "cell_type": "markdown",
   "metadata": {},
   "source": [
    "Using the `os.path.join` command is a very good idea when you don't know what kind of computer might be running your script - it means that you are letting Python deal with the question of whether the path separator is `/` or `\\` or `:` or `%` or whatever. But you don't have to use the `os.path.join` command if you know that `/` will work; you can also just type the path directly. "
   ]
  },
  {
   "cell_type": "code",
   "execution_count": null,
   "metadata": {
    "collapsed": false
   },
   "outputs": [],
   "source": [
    "os.listdir( \"/Users/tla/Dropbox/book\" )   # Look at the 'book' folder in the Dropbox folder in my home directory"
   ]
  },
  {
   "cell_type": "markdown",
   "metadata": {},
   "source": [
    "So to sum up, here are some equivalences between the command line and Python:\n",
    "\n",
    "    cd DIRECTORY ==> os.chdir(\"DIRECTORY\")\n",
    "    ls DIRECTORY ==> os.listdir(\"DIRECTORY\")\n",
    "    pwd          ==> os.getcwd()\n",
    "    echo $VAR    ==> os.getenv(\"VAR\")\n",
    "\n",
    "Reading files\n",
    "-------------\n",
    "\n",
    "Now that we know how to navigate around our directory, we might also want to look inside some files! Here's how we do that."
   ]
  },
  {
   "cell_type": "code",
   "execution_count": 36,
   "metadata": {
    "collapsed": false
   },
   "outputs": [
    {
     "name": "stdout",
     "output_type": "stream",
     "text": [
      "500 grams of beef\n",
      "heat a mixture of about 30 grams of butter and three tablespoons of olive oil\n",
      "put in the meat, fry brownish on all sides\n",
      "keep turning\n",
      "add plenty of pepper, salt, coriander, rosemary, nutmeg\n",
      "add a glass of white wine\n",
      "add a cube of dried beef broth \n",
      "add a glass of water\n",
      "(the meat should almost be under the moisture, but not completely)\n",
      "add two bay leaves\n",
      "add just short of a tablespoon of normal mustard\n",
      "same for brown sugar\n",
      "Turn the heat down as far as possible, ideally 99C but err on the low side\n",
      "now sit back for at least three hours\n",
      "enjoy\n",
      "\n"
     ]
    }
   ],
   "source": [
    "fh = open(my_home + \"/Dropbox/beef_stew.txt\")   # Open the file\n",
    "contents = fh.read()                        # Read its contents\n",
    "fh.close()                                  # Close the file\n",
    "print(contents)                             # Do something with the contents"
   ]
  },
  {
   "cell_type": "markdown",
   "metadata": {},
   "source": [
    "There are three steps to dealing with files from Python:\n",
    "\n",
    "1. Open it\n",
    "2. Read (or write) whatever you need\n",
    "3. Close it\n",
    "\n",
    "When you open a file, you make something called a *filehandle*. The filehandle, well, handles the file - does the reading, writing, closing, etc. that you need to be done.\n",
    "\n",
    "When you read a file, you have two choices: read in the entire thing, or read it line-by-line. If the file is small, or if you don't want to process it line-by-line, then you will read it all in one go. If it makes sense to process one line at a time (and especially if it is a huge file), then by all means do so. So, for example, we could add line numbers to what is in this file."
   ]
  },
  {
   "cell_type": "code",
   "execution_count": 37,
   "metadata": {
    "collapsed": false
   },
   "outputs": [
    {
     "name": "stdout",
     "output_type": "stream",
     "text": [
      "1: 500 grams of beef\n",
      "\n",
      "2: heat a mixture of about 30 grams of butter and three tablespoons of olive oil\n",
      "\n",
      "3: put in the meat, fry brownish on all sides\n",
      "\n",
      "4: keep turning\n",
      "\n",
      "5: add plenty of pepper, salt, coriander, rosemary, nutmeg\n",
      "\n",
      "6: add a glass of white wine\n",
      "\n",
      "7: add a cube of dried beef broth \n",
      "\n",
      "8: add a glass of water\n",
      "\n",
      "9: (the meat should almost be under the moisture, but not completely)\n",
      "\n",
      "10: add two bay leaves\n",
      "\n",
      "11: add just short of a tablespoon of normal mustard\n",
      "\n",
      "12: same for brown sugar\n",
      "\n",
      "13: Turn the heat down as far as possible, ideally 99C but err on the low side\n",
      "\n",
      "14: now sit back for at least three hours\n",
      "\n",
      "15: enjoy\n",
      "\n"
     ]
    }
   ],
   "source": [
    "os.chdir(my_home)\n",
    "fh = open( \"Dropbox/beef_stew.txt\" )\n",
    "counter = 1\n",
    "for line in fh:\n",
    "    print(\"%d: %s\" % ( counter, line ))\n",
    "    counter += 1\n",
    "fh.close()"
   ]
  },
  {
   "cell_type": "markdown",
   "metadata": {},
   "source": [
    "Huh, great, but why did that double-space all of a sudden?\n",
    "\n",
    "Here's what happened: every line in the file ends with a line break where I pressed Return. The `print` function adds a line break after everything it prints, by default. Since the lines in the file already have one, if we are not careful we will also be double-spacing the printout! In order to avoid that, we end the print statement with this parameter\n",
    "\n",
    "    end=\"\"\n",
    "    \n",
    "which says \"Instead of the newline you would normally print at the end, print nothing instead.\""
   ]
  },
  {
   "cell_type": "code",
   "execution_count": 38,
   "metadata": {
    "collapsed": false
   },
   "outputs": [
    {
     "name": "stdout",
     "output_type": "stream",
     "text": [
      "1: 500 grams of beef\n",
      "2: heat a mixture of about 30 grams of butter and three tablespoons of olive oil\n",
      "3: put in the meat, fry brownish on all sides\n",
      "4: keep turning\n",
      "5: add plenty of pepper, salt, coriander, rosemary, nutmeg\n",
      "6: add a glass of white wine\n",
      "7: add a cube of dried beef broth \n",
      "8: add a glass of water\n",
      "9: (the meat should almost be under the moisture, but not completely)\n",
      "10: add two bay leaves\n",
      "11: add just short of a tablespoon of normal mustard\n",
      "12: same for brown sugar\n",
      "13: Turn the heat down as far as possible, ideally 99C but err on the low side\n",
      "14: now sit back for at least three hours\n",
      "15: enjoy\n"
     ]
    }
   ],
   "source": [
    "fh = open( \"Dropbox/beef_stew.txt\" )\n",
    "counter = 1\n",
    "for line in fh:\n",
    "    print(\"%d: %s\" % ( counter, line ), end=\"\")\n",
    "    counter += 1\n",
    "fh.close()"
   ]
  },
  {
   "cell_type": "markdown",
   "metadata": {},
   "source": [
    "Writing to files\n",
    "----------------\n",
    "\n",
    "When we open a filehandle on a particular file, that filehandle can either be reading from the file or writing to it (but not both, at least not until we understand the mechanics and the dangers of doing that.)\n",
    "\n",
    "When we write to a file that already exists, there are two options: either we will replace whatever was there before, or we will add to it. Let's try it, first to a new file and then adding something to that file.\n",
    "\n",
    "When we use the `open()` function, it takes two parameters: the filename and a letter that indicates whether we want to read or write or what. If we don't give any letter, it assumes we meant 'r' for 'read'. The options are:\n",
    "\n",
    "* `r` - open the file to reading\n",
    "* `w` - empty the file and open it to writing\n",
    "* `a` - open the file for writing (appending) to the end; do NOT empty it.\n",
    "\n",
    "We can see this in action, by opening the old recipe for reading and a new recipe for writing. Where we use `.read()` on the old filehandle, we will use `.write()` on the new filehandle.\n",
    "\n",
    "The `write` function is a lot like `print`, only it does NOT assume that you want a line break at the end. In this case that is pretty convenient, since we don't!"
   ]
  },
  {
   "cell_type": "code",
   "execution_count": 39,
   "metadata": {
    "collapsed": false
   },
   "outputs": [],
   "source": [
    "old_recipe = open( \"Dropbox/beef_stew.txt\" )\n",
    "new_recipe = open( \"Dropbox/numbered_beef_stew.txt\", \"w\" )\n",
    "counter = 1\n",
    "for line in old_recipe:\n",
    "    new_recipe.write( \"%d: %s\" % ( counter, line ) )\n",
    "    counter += 1  # this is the same as counter = counter + 1\n",
    "old_recipe.close()\n",
    "new_recipe.close()"
   ]
  },
  {
   "cell_type": "markdown",
   "metadata": {},
   "source": [
    "So let's look at the new recipe! We open it for reading this time, instead of writing. And instead of reading it line by line, we will read it all in one go, so that we don't have to worry about what `print` does with line endings."
   ]
  },
  {
   "cell_type": "code",
   "execution_count": null,
   "metadata": {
    "collapsed": false
   },
   "outputs": [],
   "source": [
    "new_recipe = open( \"Dropbox/numbered_beef_stew.txt\" )\n",
    "contents = new_recipe.read()\n",
    "new_recipe.close()\n",
    "\n",
    "print(contents)"
   ]
  },
  {
   "cell_type": "markdown",
   "metadata": {},
   "source": [
    "Let's say we forgot a step at the end, and want to add it.\n",
    "\n",
    "When we write a new line to the file, since we are using `.write()` and not `print()`, we have to make sure to add the carriage return at the end of the line. In Python this can usually be done with the term `\"\\n\"`, no matter which sort of computer you are on. (This fact can confuse nerds used to the old ways of things, but is convenient for you!)\n",
    "\n",
    "Finally, although it is always important to close the files we open, it is *especially* important if we are writing to the file. If we forget to close a file we're writing to, then it's possible that not everything will get written!"
   ]
  },
  {
   "cell_type": "code",
   "execution_count": 40,
   "metadata": {
    "collapsed": false
   },
   "outputs": [],
   "source": [
    "new_recipe = open( \"Dropbox/numbered_beef_stew.txt\", \"a\" )\n",
    "new_recipe.write( \"18: give the leftovers to the cat\\n\" )\n",
    "new_recipe.close()"
   ]
  },
  {
   "cell_type": "markdown",
   "metadata": {},
   "source": [
    "And let's see if that worked. This time, instead of using `.read()` to put the file into a single variable, we will use `.readlines()` to put the file line by line into an array. This is useful if you want to read the file all in one go, but are going to want to do something with its contents line by line."
   ]
  },
  {
   "cell_type": "code",
   "execution_count": 41,
   "metadata": {
    "collapsed": false
   },
   "outputs": [
    {
     "name": "stdout",
     "output_type": "stream",
     "text": [
      "- 1: 500 grams of beef\n",
      "- 2: heat a mixture of about 30 grams of butter and three tablespoons of olive oil\n",
      "- 3: put in the meat, fry brownish on all sides\n",
      "- 4: keep turning\n",
      "- 5: add plenty of pepper, salt, coriander, rosemary, nutmeg\n",
      "- 6: add a glass of white wine\n",
      "- 7: add a cube of dried beef broth \n",
      "- 8: add a glass of water\n",
      "- 9: (the meat should almost be under the moisture, but not completely)\n",
      "- 10: add two bay leaves\n",
      "- 11: add just short of a tablespoon of normal mustard\n",
      "- 12: same for brown sugar\n",
      "- 13: Turn the heat down as far as possible, ideally 99C but err on the low side\n",
      "- 14: now sit back for at least three hours\n",
      "- 15: enjoy\n",
      "- 18: give the leftovers to the cat\n"
     ]
    }
   ],
   "source": [
    "new_recipe = open( \"Dropbox/numbered_beef_stew.txt\" )\n",
    "contents = new_recipe.readlines()\n",
    "new_recipe.close()\n",
    "\n",
    "for line in contents:\n",
    "    print(\"-\", line, end='')"
   ]
  },
  {
   "cell_type": "markdown",
   "metadata": {},
   "source": [
    "You can open and close a file as often as you need to in the same program, as long as you always close it before reopening it somewhere else!\n",
    "\n",
    "Once you know your way around the files and directories on your system, a lot of things start to make a lot more sense...\n",
    "\n",
    "* Spyder and its default temporary script\n",
    "* Saving and running a Python program\n",
    "* Making a spreadsheet file out of some geographic data you have, and saving it somewhere for import to Google Maps, which we will do later this semester!\n"
   ]
  }
 ],
 "metadata": {
  "kernelspec": {
   "display_name": "Python 3",
   "language": "python",
   "name": "python3"
  },
  "language_info": {
   "codemirror_mode": {
    "name": "ipython",
    "version": 3
   },
   "file_extension": ".py",
   "mimetype": "text/x-python",
   "name": "python",
   "nbconvert_exporter": "python",
   "pygments_lexer": "ipython3",
   "version": "3.4.4"
  }
 },
 "nbformat": 4,
 "nbformat_minor": 0
}
