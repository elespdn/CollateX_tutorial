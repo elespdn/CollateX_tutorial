{
 "cells": [
  {
   "cell_type": "markdown",
   "metadata": {},
   "source": [
    "Torsten Hiltmann, Collation of texts with important variations in spelling using a dictionary of regulated spellings for normalisation.\n",
    "\n",
    "## Synopsis\n",
    "Collating texts with important variations in spelling (e.g. in Middle French), this small code enables you to normalise your texts for the collation by the help of a dictionary of regulated spellings. \n",
    "\n",
    "## Developers\n",
    "Torsten Hiltmann, Ronald Haentjes Dekker\n",
    "\n",
    "\n",
    "## The Work packages, we established \n",
    "* read the file \n",
    "* tokenize the file\n",
    "* normalise the tokens\n",
    "    * create a dictionnary object on python, which maps one string to another\n",
    "    * read the csv file \n",
    "    * create dictionnary out of the csv file\n",
    "    * normalisation by adding the normalised version to every token\n",
    "        * lookup the t-value, add the n-value\n",
    "* put them together in a dictionnary object\n",
    "* feed the dictionnary to collatex\n",
    "* do the actual collation\n",
    "* output (here as TEI/XML), please see nbviewer.jupyter.org/github/DiXiT-eu/collatex-tutorial/blob/master/unit5/3_collation-outputs.ipynb for other possibilities. "
   ]
  },
  {
   "cell_type": "code",
   "execution_count": 5,
   "metadata": {
    "collapsed": false
   },
   "outputs": [],
   "source": [
    "import csv\n",
    "import re\n",
    "from collatex import *\n",
    "\n",
    "#create the dictionary (here: Dictionary.csv consisting in two columns, separated by a comma. The first Column 'Original' are the strings as found in the text, the second column 'Normalised' contains the strings you want to replace them with. No whitespaces behind the strings.) \n",
    "Normfrench = {}\n",
    "with open('../nTexte/Dictionnary_neu.csv') as csvfile:\n",
    "    reader = csv.DictReader(csvfile, fieldnames=['Original', 'Normalised'],  dialect='excel')\n",
    "    for row in reader:\n",
    "        Normfrench[row['Original']]= row['Normalised']\n",
    "\n",
    "#read in the witnesses  from your file system (here: ../nTexte/)\n",
    "from collatex.core_classes import WordPunctuationTokenizer\n",
    "tokenizer = WordPunctuationTokenizer()\n",
    "witness_BNF25186 = open(\"../nTexte/BNF25186.txt\").read() \n",
    "witness_BNF1968 = open(\"../nTexte/BNF1968.txt\").read() \n",
    "witness_Bresslau1994 = open(\"../nTexte/Bresslau1994.txt\").read() \n",
    "\n",
    "# build a function to tokenize and to normalize by replace keys to be found in the dictionary by the corresponding values \n",
    "def tokennormalizer(witness) :\n",
    "    tokens_as_strings = tokenizer.tokenize(witness)\n",
    "    list = []\n",
    "    for token_string in tokens_as_strings:\n",
    "        normversion = re.sub(r'\\s+$',\"\", token_string)\n",
    "        replaceversion = Normfrench.get(normversion,normversion)\n",
    "        list.append({'t':token_string, 'n':replaceversion})\n",
    "    return(list)\n",
    "\n",
    "#collate\n",
    "tokens_a = tokennormalizer(witness_BNF25186) \n",
    "tokens_b = tokennormalizer(witness_BNF1968) \n",
    "tokens_c = tokennormalizer(witness_Bresslau1994) \n",
    "\n",
    "\n",
    "witness_a = { \"id\": \"BNF25186\", \"tokens\": tokens_a }\n",
    "witness_b = { \"id\": \"BNF1968\", \"tokens\": tokens_b }\n",
    "witness_c = { \"id\": \"Bresslau1994\", \"tokens\": tokens_c }\n",
    "\n",
    "\n",
    "input = { \"witnesses\": [ witness_a, witness_b, witness_c ] }\n",
    "\n",
    "table = collate(input, output='tei', segmentation=True)\n",
    "\n",
    "#save the output in a TEI/XML File\n",
    "with open(\"output.xml\", \"w\") as text_file:\n",
    "   text_file.write(table)\n"
   ]
  }
 ],
 "metadata": {
  "anaconda-cloud": {},
  "kernelspec": {
   "display_name": "Python 3",
   "language": "python",
   "name": "python3"
  },
  "language_info": {
   "codemirror_mode": {
    "name": "ipython",
    "version": 3
   },
   "file_extension": ".py",
   "mimetype": "text/x-python",
   "name": "python",
   "nbconvert_exporter": "python",
   "pygments_lexer": "ipython3",
   "version": "3.5.2"
  }
 },
 "nbformat": 4,
 "nbformat_minor": 1
}
