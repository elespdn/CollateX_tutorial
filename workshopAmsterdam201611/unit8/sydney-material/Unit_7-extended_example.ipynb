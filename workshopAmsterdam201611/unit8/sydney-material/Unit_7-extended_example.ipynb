{
 "cells": [
  {
   "cell_type": "code",
   "execution_count": 11,
   "metadata": {
    "collapsed": false
   },
   "outputs": [
    {
     "data": {
      "text/html": [
       "<TABLE style=\"border: 1px solid #000000; border-collapse: collapse;\" border=\"1\" cellpadding=\"4\">\n",
       " <TR>\n",
       "  <TH>A</TH>\n",
       "  <TH>B</TH>\n",
       "  <TH>C</TH>\n",
       " </TR>\n",
       " <TR>\n",
       "  <TD bgcolor=\"00FF00\">the</TD>\n",
       "  <TD bgcolor=\"00FF00\">the</TD>\n",
       "  <TD bgcolor=\"00FF00\">the</TD>\n",
       " </TR>\n",
       " <TR>\n",
       "  <TD bgcolor=\"00FF00\">black</TD>\n",
       "  <TD bgcolor=\"00FF00\">black</TD>\n",
       "  <TD bgcolor=\"00FF00\">black</TD>\n",
       " </TR>\n",
       " <TR>\n",
       "  <TD bgcolor=\"FF0000\">dog</TD>\n",
       "  <TD bgcolor=\"FF0000\">dingo</TD>\n",
       "  <TD bgcolor=\"FF0000\">dingo</TD>\n",
       " </TR>\n",
       "</TABLE>"
      ],
      "text/plain": [
       "<IPython.core.display.HTML object>"
      ]
     },
     "metadata": {},
     "output_type": "display_data"
    }
   ],
   "source": [
    "from collatex import * \n",
    "\n",
    "json_input = {\n",
    "    \"witnesses\" : [ \n",
    "        {\n",
    "            \"id\": \"A\",\n",
    "            \"tokens\": [ \n",
    "                { \"t\" : \"the\" }, \n",
    "                { \"t\" : \"black\" }, \n",
    "                { \"t\" : \"dog\" } \n",
    "            ]\n",
    "        },\n",
    "        {\n",
    "            \"id\": \"B\",\n",
    "            \"tokens\": [ \n",
    "                { \"t\" : \"the\" }, \n",
    "                { \"t\" : \"black\", \"tag\" : \"emph\" }, \n",
    "                { \"t\" : \"dingo\" } \n",
    "            ]\n",
    "        },\n",
    "        {\n",
    "            \"id\": \"C\",\n",
    "            \"tokens\": [ \n",
    "                { \"t\" : \"the\" }, \n",
    "                { \"t\" : \"black\", \"tag\" : \"bold\" }, \n",
    "                { \"t\" : \"dingo\" } \n",
    "            ]\n",
    "        } \n",
    "    ]\n",
    "}\n",
    "\n",
    "collate_pretokenized_json(json_input, output=\"html2\")"
   ]
  },
  {
   "cell_type": "code",
   "execution_count": 14,
   "metadata": {
    "collapsed": false
   },
   "outputs": [],
   "source": [
    "def match_properties(token1_data, token2_data):\n",
    "    tag1 = token1_data.get(\"tag\")\n",
    "    tag2 = token2_data.get(\"tag\")\n",
    "    if (token1_data.get(\"t\") == token2_data.get(\"t\")):\n",
    "        if tag1 == tag2:\n",
    "            return True\n",
    "        if tag1 == 'emph' and tag2 == 'bold':\n",
    "            return True\n",
    "        if tag1 == 'bold' and tag2 == 'emph':\n",
    "            return True\n",
    "    return False\n",
    "\n"
   ]
  },
  {
   "cell_type": "code",
   "execution_count": 4,
   "metadata": {
    "collapsed": false
   },
   "outputs": [
    {
     "data": {
      "text/plain": [
       "True"
      ]
     },
     "execution_count": 4,
     "metadata": {},
     "output_type": "execute_result"
    }
   ],
   "source": [
    "match_properties( \"dingo\", \"dingo\" )"
   ]
  },
  {
   "cell_type": "code",
   "execution_count": 16,
   "metadata": {
    "collapsed": false
   },
   "outputs": [
    {
     "data": {
      "text/plain": [
       "False"
      ]
     },
     "execution_count": 16,
     "metadata": {},
     "output_type": "execute_result"
    }
   ],
   "source": [
    "match_properties( { \"tag\": \"i\", \"t\" : \"black\" }, { \"t\" : \"black\", \"tag\": \"emph\" } )"
   ]
  },
  {
   "cell_type": "code",
   "execution_count": 12,
   "metadata": {
    "collapsed": false
   },
   "outputs": [
    {
     "data": {
      "text/html": [
       "<TABLE style=\"border: 1px solid #000000; border-collapse: collapse;\" border=\"1\" cellpadding=\"4\">\n",
       " <TR>\n",
       "  <TH>A</TH>\n",
       "  <TH>B</TH>\n",
       "  <TH>C</TH>\n",
       " </TR>\n",
       " <TR>\n",
       "  <TD bgcolor=\"00FF00\">the</TD>\n",
       "  <TD bgcolor=\"00FF00\">the</TD>\n",
       "  <TD bgcolor=\"00FF00\">the</TD>\n",
       " </TR>\n",
       " <TR>\n",
       "  <TD bgcolor=\"FF0000\">black</TD>\n",
       "  <TD bgcolor=\"FF0000\">black</TD>\n",
       "  <TD bgcolor=\"FF0000\">black</TD>\n",
       " </TR>\n",
       " <TR>\n",
       "  <TD bgcolor=\"FF0000\">dog</TD>\n",
       "  <TD bgcolor=\"FF0000\">dingo</TD>\n",
       "  <TD bgcolor=\"FF0000\">dingo</TD>\n",
       " </TR>\n",
       "</TABLE>"
      ],
      "text/plain": [
       "<IPython.core.display.HTML object>"
      ]
     },
     "metadata": {},
     "output_type": "display_data"
    }
   ],
   "source": [
    "collate_pretokenized_json(json_input, properties_filter=match_properties, output=\"html2\")\n"
   ]
  },
  {
   "cell_type": "code",
   "execution_count": 13,
   "metadata": {
    "collapsed": false
   },
   "outputs": [
    {
     "data": {
      "text/html": [
       "<TABLE style=\"border: 1px solid #000000; border-collapse: collapse;\" border=\"1\" cellpadding=\"4\">\n",
       " <TR>\n",
       "  <TH>A</TH>\n",
       "  <TH>B</TH>\n",
       "  <TH>C</TH>\n",
       " </TR>\n",
       " <TR>\n",
       "  <TD bgcolor=\"00FF00\">the</TD>\n",
       "  <TD bgcolor=\"00FF00\">the</TD>\n",
       "  <TD bgcolor=\"00FF00\">the</TD>\n",
       " </TR>\n",
       " <TR>\n",
       "  <TD bgcolor=\"00FF00\">black</TD>\n",
       "  <TD bgcolor=\"00FF00\">black</TD>\n",
       "  <TD bgcolor=\"00FF00\">black</TD>\n",
       " </TR>\n",
       " <TR>\n",
       "  <TD bgcolor=\"FF0000\">dog</TD>\n",
       "  <TD bgcolor=\"FF0000\">dingo</TD>\n",
       "  <TD bgcolor=\"FF0000\">dingo</TD>\n",
       " </TR>\n",
       "</TABLE>"
      ],
      "text/plain": [
       "<IPython.core.display.HTML object>"
      ]
     },
     "metadata": {},
     "output_type": "display_data"
    }
   ],
   "source": [
    "collate_pretokenized_json(json_input, output=\"html2\")"
   ]
  },
  {
   "cell_type": "code",
   "execution_count": null,
   "metadata": {
    "collapsed": true
   },
   "outputs": [],
   "source": []
  }
 ],
 "metadata": {
  "anaconda-cloud": {},
  "kernelspec": {
   "display_name": "Python [default]",
   "language": "python",
   "name": "python3"
  },
  "language_info": {
   "codemirror_mode": {
    "name": "ipython",
    "version": 3
   },
   "file_extension": ".py",
   "mimetype": "text/x-python",
   "name": "python",
   "nbconvert_exporter": "python",
   "pygments_lexer": "ipython3",
   "version": "3.5.2"
  }
 },
 "nbformat": 4,
 "nbformat_minor": 0
}
