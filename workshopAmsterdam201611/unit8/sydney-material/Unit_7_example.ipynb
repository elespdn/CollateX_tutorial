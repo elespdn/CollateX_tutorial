{
 "cells": [
  {
   "cell_type": "code",
   "execution_count": 1,
   "metadata": {
    "collapsed": false
   },
   "outputs": [
    {
     "data": {
      "text/html": [
       "<TABLE cellpadding=\"4\" border=\"1\" style=\"border: 1px solid #000000; border-collapse: collapse;\">\n",
       " <TR>\n",
       "  <TH>A</TH>\n",
       "  <TH>B</TH>\n",
       " </TR>\n",
       " <TR>\n",
       "  <TD bgcolor=\"00FF00\">the</TD>\n",
       "  <TD bgcolor=\"00FF00\">the</TD>\n",
       " </TR>\n",
       " <TR>\n",
       "  <TD bgcolor=\"00FF00\">black</TD>\n",
       "  <TD bgcolor=\"00FF00\">black</TD>\n",
       " </TR>\n",
       " <TR>\n",
       "  <TD bgcolor=\"FF0000\">dog</TD>\n",
       "  <TD bgcolor=\"FF0000\">dingo</TD>\n",
       " </TR>\n",
       "</TABLE>"
      ],
      "text/plain": [
       "<IPython.core.display.HTML object>"
      ]
     },
     "metadata": {},
     "output_type": "display_data"
    }
   ],
   "source": [
    "from collatex import *\n",
    "\n",
    "json_input = {\n",
    "    \"witnesses\" : [ \n",
    "        {\n",
    "            \"id\": \"A\",\n",
    "            \"tokens\": [ \n",
    "                { \"t\" : \"the\" }, \n",
    "                { \"t\" : \"black\" }, \n",
    "                { \"t\" : \"dog\" } \n",
    "            ]\n",
    "        },\n",
    "        {\n",
    "            \"id\": \"B\",\n",
    "            \"tokens\": [ \n",
    "                { \"t\" : \"the\" }, \n",
    "                { \"t\" : \"black\", \"tag\" : \"emph\" }, \n",
    "                { \"t\" : \"dingo\" } \n",
    "            ]\n",
    "        } \n",
    "    ]\n",
    "}\n",
    "\n",
    "collate_pretokenized_json(json_input, output=\"html2\")"
   ]
  },
  {
   "cell_type": "code",
   "execution_count": 2,
   "metadata": {
    "collapsed": false
   },
   "outputs": [
    {
     "data": {
      "text/html": [
       "<TABLE cellpadding=\"4\" border=\"1\" style=\"border: 1px solid #000000; border-collapse: collapse;\">\n",
       " <TR>\n",
       "  <TH>A</TH>\n",
       "  <TH>B</TH>\n",
       " </TR>\n",
       " <TR>\n",
       "  <TD bgcolor=\"00FF00\">the</TD>\n",
       "  <TD bgcolor=\"00FF00\">the</TD>\n",
       " </TR>\n",
       " <TR>\n",
       "  <TD bgcolor=\"FF0000\">black</TD>\n",
       "  <TD bgcolor=\"FF0000\">black</TD>\n",
       " </TR>\n",
       " <TR>\n",
       "  <TD bgcolor=\"FF0000\">dog</TD>\n",
       "  <TD bgcolor=\"FF0000\">dingo</TD>\n",
       " </TR>\n",
       "</TABLE>"
      ],
      "text/plain": [
       "<IPython.core.display.HTML object>"
      ]
     },
     "metadata": {},
     "output_type": "display_data"
    }
   ],
   "source": [
    "def match_properties(token1_data, token2_data):\n",
    "    return token1_data == token2_data\n",
    "\n",
    "collate_pretokenized_json(json_input, properties_filter=match_properties, output=\"html2\")\n"
   ]
  },
  {
   "cell_type": "code",
   "execution_count": null,
   "metadata": {
    "collapsed": true
   },
   "outputs": [],
   "source": []
  }
 ],
 "metadata": {
  "kernelspec": {
   "display_name": "Python 3",
   "language": "python",
   "name": "python3"
  },
  "language_info": {
   "codemirror_mode": {
    "name": "ipython",
    "version": 3
   },
   "file_extension": ".py",
   "mimetype": "text/x-python",
   "name": "python",
   "nbconvert_exporter": "python",
   "pygments_lexer": "ipython3",
   "version": "3.4.3"
  }
 },
 "nbformat": 4,
 "nbformat_minor": 0
}
