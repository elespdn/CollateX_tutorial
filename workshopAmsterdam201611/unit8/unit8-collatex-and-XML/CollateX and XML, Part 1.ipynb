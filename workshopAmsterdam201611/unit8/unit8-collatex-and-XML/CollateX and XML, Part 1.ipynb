{
 "cells": [
  {
   "cell_type": "markdown",
   "metadata": {},
   "source": [
    "# CollateX and XML, Part 1\n",
    "\n",
    "David J. Birnbaum (<djbpitt@gmail.com>, <http://www.obdurodon.org>), 2015-06-29 \n",
    "\n",
    "This is the first part of multi-part tutorial on processing XML with CollateX (<http://collatex.net>). This example collates a single line of XML from four witnesses. It spells out the details step by step in a way that would not be used in a real project, but that makes it easy to see how each step moves toward the final result. The output is in the three formats supported natively by CollateX: a plain-text alignment table, JSON, and colored HTML.\n",
    "\n",
    "Still to come:\n",
    "\n",
    "* Part 2: Restructuring the code to use Python classes\n",
    "* Part 3: Reading multiline input from files\n",
    "<!--* Part 4: Creating output in generic XML, suitable for transformation into TEI or other XML formats.-->\n",
    "<!--* Part 5: Fine-tuning the input to improve tokenization, normalization, and alignment-->\n",
    "<!--* Part 6: Quicker processing with Python multiprocessing-->\n",
    "\n",
    "Not planned: Post-processing of generic XML output, which is best done separately with XSLT 2.0."
   ]
  },
  {
   "cell_type": "markdown",
   "metadata": {},
   "source": [
    "Load libraries"
   ]
  },
  {
   "cell_type": "code",
   "execution_count": 32,
   "metadata": {
    "collapsed": true
   },
   "outputs": [],
   "source": [
    "from collatex import *\n",
    "from lxml import etree\n",
    "import json,re"
   ]
  },
  {
   "cell_type": "markdown",
   "metadata": {},
   "source": [
    "Create XSLT stylesheets and functions to use them"
   ]
  },
  {
   "cell_type": "code",
   "execution_count": 33,
   "metadata": {
    "collapsed": false
   },
   "outputs": [],
   "source": [
    "addWMilestones = etree.XML(\"\"\"\n",
    "<xsl:stylesheet version=\"1.0\" xmlns:xsl=\"http://www.w3.org/1999/XSL/Transform\">\n",
    "    <xsl:output method=\"xml\" indent=\"no\" encoding=\"UTF-8\" omit-xml-declaration=\"yes\"/>\n",
    "    <xsl:template match=\"*|@*\">\n",
    "        <xsl:copy>\n",
    "            <xsl:apply-templates select=\"node() | @*\"/>\n",
    "        </xsl:copy>\n",
    "    </xsl:template>\n",
    "    <xsl:template match=\"/*\">\n",
    "        <xsl:copy>\n",
    "            <xsl:apply-templates select=\"@*\"/>\n",
    "            <!-- insert a <w/> milestone before the first word -->\n",
    "            <w/>\n",
    "            <xsl:apply-templates/>\n",
    "        </xsl:copy>\n",
    "    </xsl:template>\n",
    "    <!-- convert <add>, <sic>, and <crease> to milestones (and leave them that way)\n",
    "         CUSTOMIZE HERE: add other elements that may span multiple word tokens\n",
    "    -->\n",
    "    <xsl:template match=\"add | sic | crease \">\n",
    "        <xsl:element name=\"{name()}\">\n",
    "            <xsl:attribute name=\"n\">start</xsl:attribute>\n",
    "        </xsl:element>\n",
    "        <xsl:apply-templates/>\n",
    "        <xsl:element name=\"{name()}\">\n",
    "            <xsl:attribute name=\"n\">end</xsl:attribute>\n",
    "        </xsl:element>\n",
    "    </xsl:template>\n",
    "    <xsl:template match=\"note\"/>\n",
    "    <xsl:template match=\"text()\">\n",
    "        <xsl:call-template name=\"whiteSpace\">\n",
    "            <xsl:with-param name=\"input\" select=\"translate(.,'&#x0a;',' ')\"/>\n",
    "        </xsl:call-template>\n",
    "    </xsl:template>\n",
    "    <xsl:template name=\"whiteSpace\">\n",
    "        <xsl:param name=\"input\"/>\n",
    "        <xsl:choose>\n",
    "            <xsl:when test=\"not(contains($input, ' '))\">\n",
    "                <xsl:value-of select=\"$input\"/>\n",
    "            </xsl:when>\n",
    "            <xsl:when test=\"starts-with($input,' ')\">\n",
    "                <xsl:call-template name=\"whiteSpace\">\n",
    "                    <xsl:with-param name=\"input\" select=\"substring($input,2)\"/>\n",
    "                </xsl:call-template>\n",
    "            </xsl:when>\n",
    "            <xsl:otherwise>\n",
    "                <xsl:value-of select=\"substring-before($input, ' ')\"/>\n",
    "                <w/>\n",
    "                <xsl:call-template name=\"whiteSpace\">\n",
    "                    <xsl:with-param name=\"input\" select=\"substring-after($input,' ')\"/>\n",
    "                </xsl:call-template>\n",
    "            </xsl:otherwise>\n",
    "        </xsl:choose>\n",
    "    </xsl:template>\n",
    "</xsl:stylesheet>\n",
    "\n",
    "\"\"\")\n",
    "transformAddW = etree.XSLT(addWMilestones)\n",
    "                           \n",
    "xsltWrapW = etree.XML('''\n",
    "<xsl:stylesheet xmlns:xsl=\"http://www.w3.org/1999/XSL/Transform\" version=\"1.0\">\n",
    "    <xsl:output method=\"xml\" indent=\"no\" omit-xml-declaration=\"yes\"/>\n",
    "    <xsl:template match=\"/*\">\n",
    "        <xsl:copy>\n",
    "            <xsl:apply-templates select=\"w\"/>\n",
    "        </xsl:copy>\n",
    "    </xsl:template>\n",
    "    <xsl:template match=\"w\">\n",
    "        <!-- faking <xsl:for-each-group> as well as the \"<<\" and except\" operators -->\n",
    "        <xsl:variable name=\"tooFar\" select=\"following-sibling::w[1] | following-sibling::w[1]/following::node()\"/>\n",
    "        <w>\n",
    "            <xsl:copy-of select=\"following-sibling::node()[count(. | $tooFar) != count($tooFar)]\"/>\n",
    "        </w>\n",
    "    </xsl:template>\n",
    "</xsl:stylesheet>\n",
    "''')\n",
    "transformWrapW = etree.XSLT(xsltWrapW)"
   ]
  },
  {
   "cell_type": "markdown",
   "metadata": {},
   "source": [
    "Create and examine XML data"
   ]
  },
  {
   "cell_type": "code",
   "execution_count": 34,
   "metadata": {
    "collapsed": false
   },
   "outputs": [
    {
     "name": "stdout",
     "output_type": "stream",
     "text": [
      "<l><abbrev>Et</abbrev>cil i partent seulement</l>\n",
      "<Element l at 0x10bc141c8>\n"
     ]
    }
   ],
   "source": [
    "A = \"\"\"<l><abbrev>Et</abbrev>cil i partent seulement</l>\"\"\"\n",
    "B = \"\"\"<l><abbrev>Et</abbrev>cil i p<abbrev>er</abbrev>dent ausem<abbrev>en</abbrev>t</l>\"\"\"\n",
    "C = \"\"\"<l><abbrev>Et</abbrev>cil i p<abbrev>ar</abbrev>tent seulema<abbrev>n</abbrev>t</l>\"\"\"\n",
    "D = \"\"\"<l>E cil i partent sulement</l>\"\"\"\n",
    "\n",
    "ATree = etree.XML(A)\n",
    "BTree = etree.XML(B)\n",
    "CTree = etree.XML(C)\n",
    "DTree = etree.XML(D)\n",
    "\n",
    "print(A)\n",
    "print(ATree)"
   ]
  },
  {
   "cell_type": "markdown",
   "metadata": {},
   "source": [
    "Tokenize XML input by adding `<w>` tags and examine the results"
   ]
  },
  {
   "cell_type": "code",
   "execution_count": 35,
   "metadata": {
    "collapsed": false
   },
   "outputs": [
    {
     "name": "stdout",
     "output_type": "stream",
     "text": [
      "<l><w><abbrev>Et</abbrev>cil</w><w>i</w><w>partent</w><w>seulement</w></l>\n"
     ]
    }
   ],
   "source": [
    "ATokenized = transformWrapW(transformAddW(ATree))\n",
    "BTokenized = transformWrapW(transformAddW(BTree))\n",
    "CTokenized = transformWrapW(transformAddW(CTree))\n",
    "DTokenized = transformWrapW(transformAddW(DTree))\n",
    "\n",
    "print(ATokenized)"
   ]
  },
  {
   "cell_type": "markdown",
   "metadata": {},
   "source": [
    "Function to convert the word-tokenized witness line into JSON"
   ]
  },
  {
   "cell_type": "code",
   "execution_count": 36,
   "metadata": {
    "collapsed": false
   },
   "outputs": [],
   "source": [
    "def XMLtoJSON(id,XMLInput):\n",
    "    unwrapRegex = re.compile('<w>(.*)</w>')\n",
    "    stripTagsRegex = re.compile('<.*?>')\n",
    "    words = XMLInput.xpath('//w')\n",
    "    witness = {}\n",
    "    witness['id'] = id\n",
    "    witness['tokens'] = []\n",
    "    for word in words:\n",
    "        unwrapped = unwrapRegex.match(etree.tostring(word,encoding='unicode')).group(1)\n",
    "        token = {}\n",
    "        token['t'] = unwrapped\n",
    "        token['n'] = stripTagsRegex.sub('',unwrapped.lower())\n",
    "        witness['tokens'].append(token)\n",
    "    return witness"
   ]
  },
  {
   "cell_type": "markdown",
   "metadata": {},
   "source": [
    "Use the function to create JSON input for CollateX, and examine it"
   ]
  },
  {
   "cell_type": "code",
   "execution_count": 37,
   "metadata": {
    "collapsed": false
   },
   "outputs": [
    {
     "name": "stdout",
     "output_type": "stream",
     "text": [
      "{'witnesses': [{'id': 'A', 'tokens': [{'n': 'etcil', 't': '<abbrev>Et</abbrev>cil'}, {'n': 'i', 't': 'i'}, {'n': 'partent', 't': 'partent'}, {'n': 'seulement', 't': 'seulement'}]}, {'id': 'B', 'tokens': [{'n': 'etcil', 't': '<abbrev>Et</abbrev>cil'}, {'n': 'i', 't': 'i'}, {'n': 'perdent', 't': 'p<abbrev>er</abbrev>dent'}, {'n': 'ausement', 't': 'ausem<abbrev>en</abbrev>t'}]}, {'id': 'C', 'tokens': [{'n': 'etcil', 't': '<abbrev>Et</abbrev>cil'}, {'n': 'i', 't': 'i'}, {'n': 'partent', 't': 'p<abbrev>ar</abbrev>tent'}, {'n': 'seulemant', 't': 'seulema<abbrev>n</abbrev>t'}]}, {'id': 'D', 'tokens': [{'n': 'e', 't': 'E'}, {'n': 'cil', 't': 'cil'}, {'n': 'i', 't': 'i'}, {'n': 'partent', 't': 'partent'}, {'n': 'sulement', 't': 'sulement'}]}]}\n"
     ]
    }
   ],
   "source": [
    "json_input = {}\n",
    "json_input['witnesses'] = []\n",
    "json_input['witnesses'].append(XMLtoJSON('A',ATokenized))\n",
    "json_input['witnesses'].append(XMLtoJSON('B',BTokenized))\n",
    "json_input['witnesses'].append(XMLtoJSON('C',CTokenized))\n",
    "json_input['witnesses'].append(XMLtoJSON('D',DTokenized))\n",
    "print(json_input)"
   ]
  },
  {
   "cell_type": "markdown",
   "metadata": {},
   "source": [
    "Collate the witnesses and view the output as JSON, in a table, and as colored HTML"
   ]
  },
  {
   "cell_type": "code",
   "execution_count": 38,
   "metadata": {
    "collapsed": false
   },
   "outputs": [
    {
     "name": "stdout",
     "output_type": "stream",
     "text": [
      "+----------------------+----------------------+----------------------+----------+\n",
      "|          A           |          B           |          C           |    D     |\n",
      "+----------------------+----------------------+----------------------+----------+\n",
      "| <abbrev>Et</abbrev>c | <abbrev>Et</abbrev>c | <abbrev>Et</abbrev>c |   Ecil   |\n",
      "|          il          |          il          |          il          |          |\n",
      "+----------------------+----------------------+----------------------+----------+\n",
      "|          i           |          i           |          i           |    i     |\n",
      "+----------------------+----------------------+----------------------+----------+\n",
      "|       partent        | p<abbrev>er</abbrev> | p<abbrev>ar</abbrev> | partent  |\n",
      "|                      | dentausem<abbrev>en< |         tent         |          |\n",
      "|                      |      /abbrev>t       |                      |          |\n",
      "+----------------------+----------------------+----------------------+----------+\n",
      "|      seulement       |          -           | seulema<abbrev>n</ab | sulement |\n",
      "|                      |                      |        brev>t        |          |\n",
      "+----------------------+----------------------+----------------------+----------+\n",
      "{\"table\": [[[{\"n\": \"etcil\", \"t\": \"<abbrev>Et</abbrev>cil\"}], [{\"n\": \"i\", \"t\": \"i\"}], [{\"n\": \"partent\", \"t\": \"partent\"}], [{\"n\": \"seulement\", \"t\": \"seulement\"}]], [[{\"n\": \"etcil\", \"t\": \"<abbrev>Et</abbrev>cil\"}], [{\"n\": \"i\", \"t\": \"i\"}], [{\"n\": \"perdent\", \"t\": \"p<abbrev>er</abbrev>dent\"}, {\"n\": \"ausement\", \"t\": \"ausem<abbrev>en</abbrev>t\"}], null], [[{\"n\": \"etcil\", \"t\": \"<abbrev>Et</abbrev>cil\"}], [{\"n\": \"i\", \"t\": \"i\"}], [{\"n\": \"partent\", \"t\": \"p<abbrev>ar</abbrev>tent\"}], [{\"n\": \"seulemant\", \"t\": \"seulema<abbrev>n</abbrev>t\"}]], [[{\"n\": \"e\", \"t\": \"E\"}, {\"n\": \"cil\", \"t\": \"cil\"}], [{\"n\": \"i\", \"t\": \"i\"}], [{\"n\": \"partent\", \"t\": \"partent\"}], [{\"n\": \"sulement\", \"t\": \"sulement\"}]]], \"witnesses\": [\"A\", \"B\", \"C\", \"D\"]}\n"
     ]
    },
    {
     "data": {
      "text/html": [
       "<TABLE border=\"1\" style=\"border: 1px solid #000000; border-collapse: collapse;\" cellpadding=\"4\">\n",
       " <TR>\n",
       "  <TH>A</TH>\n",
       "  <TH>B</TH>\n",
       "  <TH>C</TH>\n",
       "  <TH>D</TH>\n",
       " </TR>\n",
       " <TR>\n",
       "  <TD bgcolor=\"FF0000\"><abbrev>Et</abbrev>c\n",
       "il</TD>\n",
       "  <TD bgcolor=\"FF0000\"><abbrev>Et</abbrev>c\n",
       "il</TD>\n",
       "  <TD bgcolor=\"FF0000\"><abbrev>Et</abbrev>c\n",
       "il</TD>\n",
       "  <TD bgcolor=\"FF0000\">Ecil</TD>\n",
       " </TR>\n",
       " <TR>\n",
       "  <TD bgcolor=\"00FF00\">i</TD>\n",
       "  <TD bgcolor=\"00FF00\">i</TD>\n",
       "  <TD bgcolor=\"00FF00\">i</TD>\n",
       "  <TD bgcolor=\"00FF00\">i</TD>\n",
       " </TR>\n",
       " <TR>\n",
       "  <TD bgcolor=\"FF0000\">partent</TD>\n",
       "  <TD bgcolor=\"FF0000\">p<abbrev>er</abbrev>\n",
       "dentausem<abbrev>en<\n",
       "/abbrev>t</TD>\n",
       "  <TD bgcolor=\"FF0000\">p<abbrev>ar</abbrev>\n",
       "tent</TD>\n",
       "  <TD bgcolor=\"FF0000\">partent</TD>\n",
       " </TR>\n",
       " <TR>\n",
       "  <TD bgcolor=\"FF0000\">seulement</TD>\n",
       "  <TD bgcolor=\"FF0000\">-</TD>\n",
       "  <TD bgcolor=\"FF0000\">seulema<abbrev>n</ab\n",
       "brev>t</TD>\n",
       "  <TD bgcolor=\"FF0000\">sulement</TD>\n",
       " </TR>\n",
       "</TABLE>"
      ],
      "text/plain": [
       "<IPython.core.display.HTML object>"
      ]
     },
     "metadata": {},
     "output_type": "display_data"
    }
   ],
   "source": [
    "collationText = collate(json_input,output='table',layout='vertical')\n",
    "print(collationText)\n",
    "collationJSON = collate(json_input,output='json')\n",
    "print(collationJSON)\n",
    "collationHTML2 = collate(json_input,output='html2')"
   ]
  },
  {
   "cell_type": "raw",
   "metadata": {},
   "source": [
    "Here’s what would have happened without stripping the XML markup:"
   ]
  },
  {
   "cell_type": "code",
   "execution_count": 39,
   "metadata": {
    "collapsed": false
   },
   "outputs": [
    {
     "name": "stdout",
     "output_type": "stream",
     "text": [
      "+-------------+-------------+--------------+----------+\n",
      "|      A      |      B      |      C       |    D     |\n",
      "+-------------+-------------+--------------+----------+\n",
      "|      <l     |      <l     |      <l      |    <l    |\n",
      "+-------------+-------------+--------------+----------+\n",
      "|   ><abbrev  |   ><abbrev  |   ><abbrev   |    -     |\n",
      "+-------------+-------------+--------------+----------+\n",
      "|      >      |      >      |      >       |    >     |\n",
      "+-------------+-------------+--------------+----------+\n",
      "| Et</abbrev> | Et</abbrev> | Et</abbrev>  |    E     |\n",
      "+-------------+-------------+--------------+----------+\n",
      "|    cil i    |    cil i    |    cil i     |  cil i   |\n",
      "+-------------+-------------+--------------+----------+\n",
      "|   partent   |      p<     |      p<      | partent  |\n",
      "+-------------+-------------+--------------+----------+\n",
      "|  seulement  |    abbrev   |    abbrev    | sulement |\n",
      "+-------------+-------------+--------------+----------+\n",
      "|      -      |      >      |      >       |    -     |\n",
      "+-------------+-------------+--------------+----------+\n",
      "|      -      |      er     |      ar      |    -     |\n",
      "+-------------+-------------+--------------+----------+\n",
      "|      -      |  </abbrev>  |  </abbrev>   |    -     |\n",
      "+-------------+-------------+--------------+----------+\n",
      "|      -      |  dent ausem | tent seulema |    -     |\n",
      "+-------------+-------------+--------------+----------+\n",
      "|      -      |   <abbrev>  |   <abbrev>   |    -     |\n",
      "+-------------+-------------+--------------+----------+\n",
      "|      -      |      en     |      n       |    -     |\n",
      "+-------------+-------------+--------------+----------+\n",
      "|      -      |  </abbrev>t |  </abbrev>t  |    -     |\n",
      "+-------------+-------------+--------------+----------+\n",
      "|     </l>    |     </l>    |     </l>     |   </l>   |\n",
      "+-------------+-------------+--------------+----------+\n"
     ]
    }
   ],
   "source": [
    "collation = Collation()\n",
    "collation.add_plain_witness('A',A)\n",
    "collation.add_plain_witness('B',B)\n",
    "collation.add_plain_witness('C',C)\n",
    "collation.add_plain_witness('D',D)\n",
    "print(collate(collation,output='table',layout='vertical'))"
   ]
  }
 ],
 "metadata": {
  "anaconda-cloud": {},
  "kernelspec": {
   "display_name": "Python [default]",
   "language": "python",
   "name": "python3"
  },
  "language_info": {
   "codemirror_mode": {
    "name": "ipython",
    "version": 3
   },
   "file_extension": ".py",
   "mimetype": "text/x-python",
   "name": "python",
   "nbconvert_exporter": "python",
   "pygments_lexer": "ipython3",
   "version": "3.5.2"
  }
 },
 "nbformat": 4,
 "nbformat_minor": 0
}
