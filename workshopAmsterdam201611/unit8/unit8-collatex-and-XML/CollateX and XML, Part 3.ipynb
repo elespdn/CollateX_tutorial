{
 "cells": [
  {
   "cell_type": "markdown",
   "metadata": {},
   "source": [
    "### CollateX and XML, Part 3\n",
    "\n",
    "David J. Birnbaum (<djbpitt@gmail.com>, <http://www.obdurodon.org>), Last modified 2015-0y-07 \n",
    "\n",
    "This example collates ten full witnesses of *Partonopeus de Blois* (the files are available at the [Oxford Text Archive](http://ota.ox.ac.uk/desc/2499); quasi-TEI XML files are in 2499/data/xml subdirectory of the zip file). \n",
    "\n",
    "In Part 1 of this tutorial we collated just a single line from just four witnesses, spelling out the details step by step in a way that would not be used in a real project, but that made it easy to see how each step moves toward the final result. In Part 2 we employed three classes (WitnessSet, Line, Word) to make the code more extensible and adaptable. In Part 3 we enhance the processing by:\n",
    "\n",
    "1. processing the full text from all ten witnesses\n",
    "2. reading the input from files, instead of from strings within the Python code itself, and\n",
    "3. letting our Python script tell us which elements to flatten, so that we don’t have to identify them manually in advance.\n",
    "\n",
    "The markup in the input files is similar in some respects to TEI, but the root element is `<part>`, obligatory TEI elements like `<teiHeader>` and `<text>` are not present, and the documents are in no namespace. Lines are tagged as `<l>`, and each line has `@id` and `@n` attributes. The value of the `@n`  attribute refers to the order of the line within the individual witness, which is not relevant for collation. The `@id` attribute, on the other hand, represents the line number in a synopsis of all witnesses, which means that, for example, the `<l id='34'>` lines from all witnesses should be collated together, and similarly for other `@id` values. This makes it easy to identify the *segments* to be treated as separate collation sets; we can collate all versions of line #1 against one another, and then, separately, collate all version of line #2 against one another, etc., ultimately concatenating the results. There are two peculiarities of the `@id` values that are relevant here:\n",
    "\n",
    "* Not every line occurs in every witness. This means that when we iterate over the `@id` numbers, we need to accommodate gaps in the data.\n",
    "* The `@id` values are not only consecutive integers. Some values have appended letters, so that, for example, in witness G line 4008 is followed by 4008a and then 4009. This means that if we want to iterate over the `@id` values in order, we cannot rely on either purely numeric or purely string order.\n",
    "\n",
    "Additionally, in Part 1 and Part 2 of this tutorial:\n",
    "\n",
    "* We didn’t worry about the order of the witnesses in the output. Now that we are dealing with multiple segments, we probably want to ensure that the witnesses are rendered in the same order in all of the segments, which means that have to sort them. For this tutorial the witness identifiers are all single upper-case Latin letters (A, B, C, F, G, L, P, T, V, W), and we’ll sort them in alphabetical order. (Alternatively, it is also possible to order them explicitly, perhaps in order to group them by hypearchetype.)\n",
    "* The witness siglum was attached to the `<l>` element. Now that we are dealing with full witnesses that contain multiple lines, we have to locate the siglum elsewhere. \n",
    "* The input \"document\" was a single `<l>` element, and we ignored the rest of the documents whence those single lines had been extracted manually. Now that we are dealing with complete TEI-based documents, we have to decide what to do with the rest of the content, that is, with the elements that are not just lines.\n",
    "\n",
    "In this tutorial we ignore the other elements of the input documents except for the siglum. In Real-Life collation tasks with complete TEI documents, developers would probably want to incorporate at least some metadata from the `<teiheader>` components of the sources."
   ]
  },
  {
   "cell_type": "markdown",
   "metadata": {},
   "source": [
    "Load libraries. In addition to the libraries used in Part 2, we also load the `os` library because we will be reading input from the file system and the itertools library to help concatenate lists efficiently."
   ]
  },
  {
   "cell_type": "code",
   "execution_count": 11,
   "metadata": {
    "collapsed": true
   },
   "outputs": [],
   "source": [
    "from collatex import *\n",
    "from lxml import etree\n",
    "import json,re,os,itertools"
   ]
  },
  {
   "cell_type": "markdown",
   "metadata": {},
   "source": [
    "## split(id)\n",
    "We create our own sort function, for which we define `linenoRegex`, which includes two capture groups, both of which are strings by default. The first captures all digits from the beginning of the line number (`@id`) value. The second captures anything after the numbers. The regex splits the input into a tuple that contains the two values as strings, and we convert the first value to an integer before we return it. For example, the input value '4008a' will return `(4008,'a')`, where the '4008' is an integer and the 'a' is a string. We can then specify that our `@id` values should be sorted according to the results of processing them with this function. This overcomes the limitation of our being unable to sort them numerically (because some of them contain letters) or alphabetically (because '10' would sort before '9' alphabetically)."
   ]
  },
  {
   "cell_type": "code",
   "execution_count": 12,
   "metadata": {
    "collapsed": true
   },
   "outputs": [],
   "source": [
    "def splitId(id):\n",
    "    \"\"\"Splits @id value like 4008a into parts, for sorting\"\"\"\n",
    "    linenoRegex = re.compile('(\\d+)(.*)')\n",
    "    results = linenoRegex.match(id).groups()\n",
    "    return (int(results[0]),results[1])"
   ]
  },
  {
   "cell_type": "markdown",
   "metadata": {},
   "source": [
    "## The WitnessSet class\n",
    "The **WitnessSet** class represents all of the witnesses being collated. \n",
    "\n",
    "### all_line_ids()\n",
    "Unlike in Parts 1 and 2, where each witness contained just one line (`<l>` element), the witnesses now contain multiple lines. We *segment* the witnesses by `@id` value, so that each segment (set of readings to be collated) consists of lines that share an `@id` value. To iterate over those values, we need to get a complete list of them, and to ensure that the output is in the correct order, we need to sort them. Lines will be processed individually, segmenting the collation task into subtasks that collate just one line at a time. The `all_line_ids()` method returns a list of line identifiers (`@id` values) from all witnesses in the correct order.\n",
    "\n",
    "### generate_json(input()\n",
    "The `generate_json_input()` method returns a JSON object that is suitable for input into CollateX."
   ]
  },
  {
   "cell_type": "code",
   "execution_count": 13,
   "metadata": {
    "collapsed": false
   },
   "outputs": [],
   "source": [
    "class WitnessSet:\n",
    "    def __init__(self,witnessList):\n",
    "        self.witnessList = witnessList\n",
    "    def all_witnesses(self):\n",
    "        \"\"\"List of tuples consisting of siglum and contents\"\"\"\n",
    "        return [Witness(witness) for witness in self.witnessList]\n",
    "    def all_ids(self):\n",
    "        \"\"\"Sorted deduplicated list of all ids in corpus\"\"\"\n",
    "        return sorted(set(itertools.chain.from_iterable([witness.XML().xpath('//l/@id') for witness in self.all_witnesses()])),key=splitId)\n",
    "    def get_lines_by_id(self,id):\n",
    "        \"\"\"List of tuples of siglum plus <l> element from each witness that corresponds to a certain line\"\"\"\n",
    "        witnesses_with_line = []\n",
    "        for witness in self.all_witnesses():\n",
    "            try:\n",
    "                witnesses_with_line.append((witness.siglum,witness.XML().xpath('//l[@id = ' + id + ']')[0]))\n",
    "            except:\n",
    "                pass\n",
    "        return witnesses_with_line\n",
    "    def generate_json_input(self, lineId):\n",
    "        \"\"\"JSON input to CollateX for an <l> segment\"\"\"\n",
    "        json_input = {}\n",
    "        witnesses = []\n",
    "        for witness in self.get_lines_by_id(lineId):\n",
    "            currentWitness = {}\n",
    "            currentWitness['id'] = witness[0]\n",
    "            currentWitness['tokens'] = Line(witness[1]).tokens()\n",
    "            witnesses.append(currentWitness)\n",
    "        json_input['witnesses'] = witnesses\n",
    "        return json_input"
   ]
  },
  {
   "cell_type": "markdown",
   "metadata": {},
   "source": [
    "## The Witness class\n",
    "Each witness in the witness set is an instance of class `Witness`. witness.siglum is a string and witness.contents is an XML tree."
   ]
  },
  {
   "cell_type": "code",
   "execution_count": 14,
   "metadata": {
    "collapsed": false
   },
   "outputs": [],
   "source": [
    "class Witness:\n",
    "    \"\"\"Each witness in the witness set is an instance of class Witness\"\"\"\n",
    "    def __init__(self,witness):\n",
    "        self.witness = witness\n",
    "        self.siglum = self.witness[0]\n",
    "        self.contents = self.witness[1]\n",
    "    def XML(self):\n",
    "        return etree.XML(self.contents)"
   ]
  },
  {
   "cell_type": "markdown",
   "metadata": {},
   "source": [
    "## The Line class\n",
    "The **Line** class contains methods applied to individual lines. The XSLT stylesheets and the functions to use them have been moved into the Line class, since they apply to individual lines. The siglum for the line is retrieved from the witness that contains it, and is part of the Witness class. The `line.tokens()` method returns a list of JSON objects, one for each word token. "
   ]
  },
  {
   "cell_type": "code",
   "execution_count": 15,
   "metadata": {
    "collapsed": false
   },
   "outputs": [],
   "source": [
    "class Line:\n",
    "    \"\"\"An instance of Line is a line in a witness, expressed as an <l> element\"\"\"\n",
    "    addWMilestones = etree.XML(\"\"\"\n",
    "    <xsl:stylesheet version=\"1.0\" xmlns:xsl=\"http://www.w3.org/1999/XSL/Transform\">\n",
    "        <xsl:output method=\"xml\" indent=\"no\" encoding=\"UTF-8\" omit-xml-declaration=\"yes\"/>\n",
    "        <xsl:template match=\"*|@*\">\n",
    "            <xsl:copy>\n",
    "                <xsl:apply-templates select=\"node() | @*\"/>\n",
    "            </xsl:copy>\n",
    "        </xsl:template>\n",
    "        <xsl:template match=\"/*\">\n",
    "            <xsl:copy>\n",
    "                <xsl:apply-templates select=\"@*\"/>\n",
    "                <!-- insert a <w/> milestone before the first word -->\n",
    "                <w/>\n",
    "                <xsl:apply-templates/>\n",
    "            </xsl:copy>\n",
    "        </xsl:template>\n",
    "        <!-- convert <add>, <sic>, and <crease> to milestones (and leave them that way)\n",
    "             CUSTOMIZE HERE: add other elements that may span multiple word tokens\n",
    "        -->\n",
    "        <xsl:template match=\"add | sic | crease \">\n",
    "            <xsl:element name=\"{name()}\">\n",
    "                <xsl:attribute name=\"n\">start</xsl:attribute>\n",
    "            </xsl:element>\n",
    "            <xsl:apply-templates/>\n",
    "            <xsl:element name=\"{name()}\">\n",
    "                <xsl:attribute name=\"n\">end</xsl:attribute>\n",
    "            </xsl:element>\n",
    "        </xsl:template>\n",
    "        <xsl:template match=\"note\"/>\n",
    "        <xsl:template match=\"text()\">\n",
    "            <xsl:call-template name=\"whiteSpace\">\n",
    "                <xsl:with-param name=\"input\" select=\"translate(.,'&#x0a;',' ')\"/>\n",
    "            </xsl:call-template>\n",
    "        </xsl:template>\n",
    "        <xsl:template name=\"whiteSpace\">\n",
    "            <xsl:param name=\"input\"/>\n",
    "            <xsl:choose>\n",
    "                <xsl:when test=\"not(contains($input, ' '))\">\n",
    "                    <xsl:value-of select=\"$input\"/>\n",
    "                </xsl:when>\n",
    "                <xsl:when test=\"starts-with($input,' ')\">\n",
    "                    <xsl:call-template name=\"whiteSpace\">\n",
    "                        <xsl:with-param name=\"input\" select=\"substring($input,2)\"/>\n",
    "                    </xsl:call-template>\n",
    "                </xsl:when>\n",
    "                <xsl:otherwise>\n",
    "                    <xsl:value-of select=\"substring-before($input, ' ')\"/>\n",
    "                    <w/>\n",
    "                    <xsl:call-template name=\"whiteSpace\">\n",
    "                        <xsl:with-param name=\"input\" select=\"substring-after($input,' ')\"/>\n",
    "                    </xsl:call-template>\n",
    "                </xsl:otherwise>\n",
    "            </xsl:choose>\n",
    "        </xsl:template>\n",
    "    </xsl:stylesheet>\n",
    "    \"\"\")\n",
    "    transformAddW = etree.XSLT(addWMilestones)\n",
    "    xsltWrapW = etree.XML('''\n",
    "    <xsl:stylesheet xmlns:xsl=\"http://www.w3.org/1999/XSL/Transform\" version=\"1.0\">\n",
    "        <xsl:output method=\"xml\" indent=\"no\" omit-xml-declaration=\"yes\"/>\n",
    "        <xsl:template match=\"/*\">\n",
    "            <xsl:copy>\n",
    "                <xsl:apply-templates select=\"w\"/>\n",
    "            </xsl:copy>\n",
    "        </xsl:template>\n",
    "        <xsl:template match=\"w\">\n",
    "            <!-- faking <xsl:for-each-group> as well as the \"<<\" and except\" operators -->\n",
    "            <xsl:variable name=\"tooFar\" select=\"following-sibling::w[1] | following-sibling::w[1]/following::node()\"/>\n",
    "            <w>\n",
    "                <xsl:copy-of select=\"following-sibling::node()[count(. | $tooFar) != count($tooFar)]\"/>\n",
    "            </w>\n",
    "        </xsl:template>\n",
    "    </xsl:stylesheet>\n",
    "    ''')\n",
    "    transformWrapW = etree.XSLT(xsltWrapW)\n",
    "    def __init__(self,line):\n",
    "        self.line = line\n",
    "    def tokens(self):\n",
    "        return [Word(token).createToken() for token in Line.transformWrapW(Line.transformAddW(self.line)).xpath('//w')]\n",
    "        "
   ]
  },
  {
   "cell_type": "markdown",
   "metadata": {},
   "source": [
    "The **Word** class contains methods that apply to individual words. `unwrap()` and `normalize()` are private; they are used by `createToken()` to return a JSON object with the \"t\" and \"n\" properties for a word token."
   ]
  },
  {
   "cell_type": "code",
   "execution_count": 16,
   "metadata": {
    "collapsed": true
   },
   "outputs": [],
   "source": [
    "class Word:\n",
    "    unwrapRegex = re.compile('<w>(.*)</w>')\n",
    "    stripTagsRegex = re.compile('<.*?>')\n",
    "    def __init__(self,word):\n",
    "        self.word = word\n",
    "    def unwrap(self):\n",
    "        return Word.unwrapRegex.match(etree.tostring(self.word,encoding='unicode')).group(1)\n",
    "    def normalize(self):\n",
    "        return Word.stripTagsRegex.sub('',self.unwrap().lower())\n",
    "    def createToken(self):\n",
    "        token = {}\n",
    "        token['t'] = self.unwrap()\n",
    "        token['n'] = self.normalize()\n",
    "        return token"
   ]
  },
  {
   "cell_type": "markdown",
   "metadata": {},
   "source": [
    "Create XML data and assign to a `witnessSet` variable"
   ]
  },
  {
   "cell_type": "markdown",
   "metadata": {
    "collapsed": true
   },
   "source": [
    "Our witnesses are XML files in the 'partonopeus' subdirectory of our current location. Verify that the files are there by listing them."
   ]
  },
  {
   "cell_type": "code",
   "execution_count": 17,
   "metadata": {
    "collapsed": false
   },
   "outputs": [
    {
     "data": {
      "text/plain": [
       "['A.xml',\n",
       " 'B.xml',\n",
       " 'C.xml',\n",
       " 'F.xml',\n",
       " 'G.xml',\n",
       " 'L.xml',\n",
       " 'P.xml',\n",
       " 'T.xml',\n",
       " 'V.xml',\n",
       " 'X.xml']"
      ]
     },
     "execution_count": 17,
     "metadata": {},
     "output_type": "execute_result"
    }
   ],
   "source": [
    "os.listdir('partonopeus')"
   ]
  },
  {
   "cell_type": "markdown",
   "metadata": {},
   "source": [
    "Create a two-member tuple for each file, consisting of two strings: the one-letter identifier (the filename with the '.xml' extension removed) and the contents of the files. Assemble these into a list of tuples and use it to create an instance of the `WitnessSet` class, assigned to the variable `witnessSet`. We use the lxml library to parse the XML and a file that contains Unicode data must be opened in raw (bytes) mode."
   ]
  },
  {
   "cell_type": "code",
   "execution_count": 18,
   "metadata": {
    "collapsed": false
   },
   "outputs": [],
   "source": [
    "witnessSet = WitnessSet([(inputFile[0],open('partonopeus/' + inputFile,'rb').read()) for inputFile in os.listdir('partonopeus')])"
   ]
  },
  {
   "cell_type": "markdown",
   "metadata": {},
   "source": [
    "Generate sample JSON from a random line of data and examine it"
   ]
  },
  {
   "cell_type": "code",
   "execution_count": 19,
   "metadata": {
    "collapsed": false
   },
   "outputs": [
    {
     "name": "stdout",
     "output_type": "stream",
     "text": [
      "{'witnesses': [{'id': 'A', 'tokens': [{'t': 'De', 'n': 'de'}, {'t': 'mon', 'n': 'mon'}, {'t': 'segnor', 'n': 'segnor'}, {'t': 'la', 'n': 'la'}, {'t': 'gracie', 'n': 'gracie'}, {'t': 'issi', 'n': 'issi'}]}, {'id': 'B', 'tokens': [{'t': 'De', 'n': 'de'}, {'t': 'mo<abbrev>n</abbrev>segnor', 'n': 'monsegnor'}, {'t': 'la', 'n': 'la'}, {'t': 'g<abbrev>ra</abbrev>sce', 'n': 'grasce'}, {'t': 'issi', 'n': 'issi'}]}, {'id': 'G', 'tokens': [{'t': 'De', 'n': 'de'}, {'t': 'mo<abbrev>n</abbrev>seignor', 'n': 'monseignor'}, {'t': 'la', 'n': 'la'}, {'t': 'g<abbrev>ra</abbrev>ce', 'n': 'grace'}, {'t': 'eisi', 'n': 'eisi'}]}, {'id': 'L', 'tokens': [{'t': 'De', 'n': 'de'}, {'t': 'mon', 'n': 'mon'}, {'t': 'segnor', 'n': 'segnor'}, {'t': 'la', 'n': 'la'}, {'t': 'grace', 'n': 'grace'}, {'t': 'ensi', 'n': 'ensi'}]}, {'id': 'P', 'tokens': [{'t': 'Se', 'n': 'se'}, {'t': 'mo<abbrev>n</abbrev>seignour', 'n': 'monseignour'}, {'t': 'sa', 'n': 'sa'}, {'t': 'g<abbrev>ra</abbrev>ce', 'n': 'grace'}, {'t': 'einsi', 'n': 'einsi'}]}, {'id': 'V', 'tokens': [{'t': 'de', 'n': 'de'}, {'t': 'mun', 'n': 'mun'}, {'t': 'seignor', 'n': 'seignor'}, {'t': 'sa', 'n': 'sa'}, {'t': 'grace', 'n': 'grace'}, {'t': 'issi', 'n': 'issi'}]}]}\n"
     ]
    }
   ],
   "source": [
    "json_input = witnessSet.generate_json_input('10')\n",
    "print(json_input)"
   ]
  },
  {
   "cell_type": "markdown",
   "metadata": {},
   "source": [
    "Collate and output the results of the sample as a plain-text alignment table, as JSON, and as colored HTML"
   ]
  },
  {
   "cell_type": "code",
   "execution_count": 20,
   "metadata": {
    "collapsed": false
   },
   "outputs": [
    {
     "name": "stdout",
     "output_type": "stream",
     "text": [
      "+---+--------------------------------+-----------------------------+----+-------------------------+-------+\n",
      "| A | De                             | monsegnor                   | la | gracie                  | issi  |\n",
      "| B | De                             | mo<abbrev>n</abbrev>segnor  | la | g<abbrev>ra</abbrev>sce | issi  |\n",
      "| G | De                             | mo<abbrev>n</abbrev>seignor | la | g<abbrev>ra</abbrev>ce  | eisi  |\n",
      "| L | De                             | monsegnor                   | la | grace                   | ensi  |\n",
      "| P | Semo<abbrev>n</abbrev>seignour | -                           | sa | g<abbrev>ra</abbrev>ce  | einsi |\n",
      "| V | de                             | munseignor                  | sa | grace                   | issi  |\n",
      "+---+--------------------------------+-----------------------------+----+-------------------------+-------+\n",
      "{\"table\": [[[{\"n\": \"de\", \"t\": \"De\"}], [{\"n\": \"mon\", \"t\": \"mon\"}, {\"n\": \"segnor\", \"t\": \"segnor\"}], [{\"n\": \"la\", \"t\": \"la\"}], [{\"n\": \"gracie\", \"t\": \"gracie\"}], [{\"n\": \"issi\", \"t\": \"issi\"}]], [[{\"n\": \"de\", \"t\": \"De\"}], [{\"n\": \"monsegnor\", \"t\": \"mo<abbrev>n</abbrev>segnor\"}], [{\"n\": \"la\", \"t\": \"la\"}], [{\"n\": \"grasce\", \"t\": \"g<abbrev>ra</abbrev>sce\"}], [{\"n\": \"issi\", \"t\": \"issi\"}]], [[{\"n\": \"de\", \"t\": \"De\"}], [{\"n\": \"monseignor\", \"t\": \"mo<abbrev>n</abbrev>seignor\"}], [{\"n\": \"la\", \"t\": \"la\"}], [{\"n\": \"grace\", \"t\": \"g<abbrev>ra</abbrev>ce\"}], [{\"n\": \"eisi\", \"t\": \"eisi\"}]], [[{\"n\": \"de\", \"t\": \"De\"}], [{\"n\": \"mon\", \"t\": \"mon\"}, {\"n\": \"segnor\", \"t\": \"segnor\"}], [{\"n\": \"la\", \"t\": \"la\"}], [{\"n\": \"grace\", \"t\": \"grace\"}], [{\"n\": \"ensi\", \"t\": \"ensi\"}]], [[{\"n\": \"se\", \"t\": \"Se\"}, {\"n\": \"monseignour\", \"t\": \"mo<abbrev>n</abbrev>seignour\"}], null, [{\"n\": \"sa\", \"t\": \"sa\"}], [{\"n\": \"grace\", \"t\": \"g<abbrev>ra</abbrev>ce\"}], [{\"n\": \"einsi\", \"t\": \"einsi\"}]], [[{\"n\": \"de\", \"t\": \"de\"}], [{\"n\": \"mun\", \"t\": \"mun\"}, {\"n\": \"seignor\", \"t\": \"seignor\"}], [{\"n\": \"sa\", \"t\": \"sa\"}], [{\"n\": \"grace\", \"t\": \"grace\"}], [{\"n\": \"issi\", \"t\": \"issi\"}]]], \"witnesses\": [\"A\", \"B\", \"G\", \"L\", \"P\", \"V\"]}\n"
     ]
    },
    {
     "data": {
      "text/html": [
       "<TABLE border=\"1\" style=\"border: 1px solid #000000; border-collapse: collapse;\" cellpadding=\"4\">\n",
       " <TR>\n",
       "  <TH>A</TH>\n",
       "  <TH>B</TH>\n",
       "  <TH>G</TH>\n",
       "  <TH>L</TH>\n",
       "  <TH>P</TH>\n",
       "  <TH>V</TH>\n",
       " </TR>\n",
       " <TR>\n",
       "  <TD bgcolor=\"FF0000\">De</TD>\n",
       "  <TD bgcolor=\"FF0000\">De</TD>\n",
       "  <TD bgcolor=\"FF0000\">De</TD>\n",
       "  <TD bgcolor=\"FF0000\">De</TD>\n",
       "  <TD bgcolor=\"FF0000\">Semo<abbrev>n</abbre\n",
       "v>seignour</TD>\n",
       "  <TD bgcolor=\"FF0000\">de</TD>\n",
       " </TR>\n",
       " <TR>\n",
       "  <TD bgcolor=\"FF0000\">monsegnor</TD>\n",
       "  <TD bgcolor=\"FF0000\">mo<abbrev>n</abbrev>\n",
       "segnor</TD>\n",
       "  <TD bgcolor=\"FF0000\">mo<abbrev>n</abbrev>\n",
       "seignor</TD>\n",
       "  <TD bgcolor=\"FF0000\">monsegnor</TD>\n",
       "  <TD bgcolor=\"FF0000\">-</TD>\n",
       "  <TD bgcolor=\"FF0000\">munseignor</TD>\n",
       " </TR>\n",
       " <TR>\n",
       "  <TD bgcolor=\"FF0000\">la</TD>\n",
       "  <TD bgcolor=\"FF0000\">la</TD>\n",
       "  <TD bgcolor=\"FF0000\">la</TD>\n",
       "  <TD bgcolor=\"FF0000\">la</TD>\n",
       "  <TD bgcolor=\"FF0000\">sa</TD>\n",
       "  <TD bgcolor=\"FF0000\">sa</TD>\n",
       " </TR>\n",
       " <TR>\n",
       "  <TD bgcolor=\"FF0000\">gracie</TD>\n",
       "  <TD bgcolor=\"FF0000\">g<abbrev>ra</abbrev>\n",
       "sce</TD>\n",
       "  <TD bgcolor=\"FF0000\">g<abbrev>ra</abbrev>\n",
       "ce</TD>\n",
       "  <TD bgcolor=\"FF0000\">grace</TD>\n",
       "  <TD bgcolor=\"FF0000\">g<abbrev>ra</abbrev>\n",
       "ce</TD>\n",
       "  <TD bgcolor=\"FF0000\">grace</TD>\n",
       " </TR>\n",
       " <TR>\n",
       "  <TD bgcolor=\"FF0000\">issi</TD>\n",
       "  <TD bgcolor=\"FF0000\">issi</TD>\n",
       "  <TD bgcolor=\"FF0000\">eisi</TD>\n",
       "  <TD bgcolor=\"FF0000\">ensi</TD>\n",
       "  <TD bgcolor=\"FF0000\">einsi</TD>\n",
       "  <TD bgcolor=\"FF0000\">issi</TD>\n",
       " </TR>\n",
       "</TABLE>"
      ],
      "text/plain": [
       "<IPython.core.display.HTML object>"
      ]
     },
     "metadata": {},
     "output_type": "display_data"
    }
   ],
   "source": [
    "collationText = collate(json_input,output='table')\n",
    "print(collationText)\n",
    "collationJSON = collate(json_input,output='json')\n",
    "print(collationJSON)\n",
    "collationHTML2 = collate(json_input,output='html2')"
   ]
  },
  {
   "cell_type": "code",
   "execution_count": null,
   "metadata": {
    "collapsed": true
   },
   "outputs": [],
   "source": []
  }
 ],
 "metadata": {
  "anaconda-cloud": {},
  "kernelspec": {
   "display_name": "Python [default]",
   "language": "python",
   "name": "python3"
  },
  "language_info": {
   "codemirror_mode": {
    "name": "ipython",
    "version": 3
   },
   "file_extension": ".py",
   "mimetype": "text/x-python",
   "name": "python",
   "nbconvert_exporter": "python",
   "pygments_lexer": "ipython3",
   "version": "3.5.2"
  }
 },
 "nbformat": 4,
 "nbformat_minor": 0
}
