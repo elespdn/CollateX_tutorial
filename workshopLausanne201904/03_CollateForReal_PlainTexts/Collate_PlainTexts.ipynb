{
 "cells": [
  {
   "cell_type": "markdown",
   "metadata": {},
   "source": [
    "# Collating for real with CollateX. Plain texts\n",
    "\n",
    "In this exercise, follow the instructions here: read the Markdown cells and execute the Code cells (the ones with In + a number on their left). \n",
    "\n",
    "Not sure how to execute cells in a Notebook? Check the [Jupyter Notebook tutorial](../02_PrepareEnvironment/JupyterNotebook.ipynb)."
   ]
  },
  {
   "cell_type": "markdown",
   "metadata": {},
   "source": [
    "### Delete the outputs\n",
    "\n",
    "In this notebook, you might have already the code and the outputs, that is the results. We want to create the results afresh, so let's clear all the outputs. Go to the menu 'Kernel' and choose 'Restart & Clear Output' and confirm it when Jupyter asks for it. Wait some seconds, a blue string appears telling 'Kernel ready'; if you don't see it, don't worry, it is so quick that you might have lost it. But the Notebook is ready again.\n",
    "\n",
    "Please note that we are clearing the results only because we want to run everything in the exercise. But if in the future you come back here, you don't need to delete the results before starting."
   ]
  },
  {
   "cell_type": "markdown",
   "metadata": {},
   "source": [
    "## Update CollateX\n",
    "\n",
    "CollateX is already installed, but we want to make sure to have the latest version of CollateX. You don't need to do this every time, but make sure you do it regularly. \n",
    "\n",
    "That's why we do in the Jupyter Notebook:"
   ]
  },
  {
   "cell_type": "code",
   "execution_count": null,
   "metadata": {},
   "outputs": [],
   "source": [
    "!pip install --upgrade collatex"
   ]
  },
  {
   "cell_type": "markdown",
   "metadata": {},
   "source": [
    "Or directly in the commandline: `pip install --upgrade collatex` (without the exclamation mark at the beginning of the line)."
   ]
  },
  {
   "cell_type": "markdown",
   "metadata": {},
   "source": [
    "## Run CollateX\n",
    "\n",
    "Finally, we can use CollateX.\n",
    "\n",
    "We need to tell Python that we will be needing the CollateX package. A package or library is a program, a set of code files that together form a program. In Pythong, before using the library, you need to ask for it. Here is how you do it:"
   ]
  },
  {
   "cell_type": "code",
   "execution_count": 1,
   "metadata": {
    "collapsed": true
   },
   "outputs": [],
   "source": [
    "from collatex import *"
   ]
  },
  {
   "cell_type": "markdown",
   "metadata": {},
   "source": [
    "Now we're ready to make a collation object. We do this with the slightly hermetic line of code: \n",
    "\n",
    "    collation = Collation()\n",
    "    \n",
    "Here the lower case `collation` is the arbitrary named variable that refers to a copy (officially it is called an *instance*) of the CollateX collation engine. We simply tell the collation library to create a new instance by saying `Collation()`."
   ]
  },
  {
   "cell_type": "code",
   "execution_count": 2,
   "metadata": {
    "collapsed": true
   },
   "outputs": [],
   "source": [
    "collation = Collation()"
   ]
  },
  {
   "cell_type": "markdown",
   "metadata": {},
   "source": [
    "Now we add some witnesses. Each witness gets a letter or name that will identify them, and for each we add the literal text of the witness to the collation object."
   ]
  },
  {
   "cell_type": "code",
   "execution_count": 3,
   "metadata": {
    "collapsed": true
   },
   "outputs": [],
   "source": [
    "collation.add_plain_witness( \"A\", \"The quick brown fox jumped over the lazy dog.\")\n",
    "collation.add_plain_witness( \"B\", \"The brown fox jumped over the dog.\" )\n",
    "collation.add_plain_witness( \"C\", \"The bad fox jumped over the lazy dog.\" )"
   ]
  },
  {
   "cell_type": "markdown",
   "metadata": {},
   "source": [
    "And now we can let CollateX do its work of collating these witnesses and sit back for about 0.001 seconds. The result will be an alignment table, so we'll refer to the result with a variable named `alignment_table`."
   ]
  },
  {
   "cell_type": "code",
   "execution_count": 4,
   "metadata": {
    "collapsed": true
   },
   "outputs": [],
   "source": [
    "alignment_table = collate(collation, layout='vertical', segmentation=False )"
   ]
  },
  {
   "cell_type": "markdown",
   "metadata": {},
   "source": [
    "Well, that worked nicely it seems. But there's no printout, no visualization. That's okay, we can come up with a printout of the alignment table too:"
   ]
  },
  {
   "cell_type": "code",
   "execution_count": 5,
   "metadata": {},
   "outputs": [
    {
     "name": "stdout",
     "output_type": "stream",
     "text": [
      "+--------+--------+--------+\n",
      "|   A    |   B    |   C    |\n",
      "+--------+--------+--------+\n",
      "|  The   |  The   |  The   |\n",
      "+--------+--------+--------+\n",
      "| quick  |   -    |  bad   |\n",
      "+--------+--------+--------+\n",
      "| brown  | brown  |   -    |\n",
      "+--------+--------+--------+\n",
      "|  fox   |  fox   |  fox   |\n",
      "+--------+--------+--------+\n",
      "| jumped | jumped | jumped |\n",
      "+--------+--------+--------+\n",
      "|  over  |  over  |  over  |\n",
      "+--------+--------+--------+\n",
      "|  the   |  the   |  the   |\n",
      "+--------+--------+--------+\n",
      "|  lazy  |   -    |  lazy  |\n",
      "+--------+--------+--------+\n",
      "|  dog   |  dog   |  dog   |\n",
      "+--------+--------+--------+\n",
      "|   .    |   .    |   .    |\n",
      "+--------+--------+--------+\n"
     ]
    }
   ],
   "source": [
    "print( alignment_table )"
   ]
  },
  {
   "cell_type": "markdown",
   "metadata": {},
   "source": [
    "CollateX can also collect the segments that run parallel and display them together. To do that, just delete the option `segmentation=False` as in the line below. We can now collate and print the output again."
   ]
  },
  {
   "cell_type": "code",
   "execution_count": 6,
   "metadata": {},
   "outputs": [
    {
     "name": "stdout",
     "output_type": "stream",
     "text": [
      "+---------------------+---------------------+---------------------+\n",
      "|          A          |          B          |          C          |\n",
      "+---------------------+---------------------+---------------------+\n",
      "|         The         |         The         |         The         |\n",
      "+---------------------+---------------------+---------------------+\n",
      "|        quick        |          -          |         bad         |\n",
      "+---------------------+---------------------+---------------------+\n",
      "|        brown        |        brown        |          -          |\n",
      "+---------------------+---------------------+---------------------+\n",
      "| fox jumped over the | fox jumped over the | fox jumped over the |\n",
      "+---------------------+---------------------+---------------------+\n",
      "|         lazy        |          -          |         lazy        |\n",
      "+---------------------+---------------------+---------------------+\n",
      "|         dog.        |         dog.        |         dog.        |\n",
      "+---------------------+---------------------+---------------------+\n"
     ]
    }
   ],
   "source": [
    "alignment_table = collate(collation, layout='vertical' )\n",
    "print( alignment_table )"
   ]
  },
  {
   "cell_type": "markdown",
   "metadata": {},
   "source": [
    "### Jupyter Notebook cells order\n",
    "\n",
    "You may have noticed that if you run the cells in the Notebook in order, they know about one another. For this reason, in the end of this tutorial we could produce different outputs using the information typed into the previous cells. When you open a notebook, remember to run the cells in order or to \"run all cells\" (from the menu Cell), otherwise you may get an error message."
   ]
  },
  {
   "cell_type": "markdown",
   "metadata": {},
   "source": [
    "## Recap and exercise\n",
    "\n",
    "Before moving forward and see how to collate texts stored in files and discover the various outputs that CollateX provide, let's recap what we've done and exercise a bit. \n",
    "\n",
    "We are using\n",
    "\n",
    "\n",
    "\n",
    "1. First, create a new Markdown cell at the end of this Notebook (you could also create a new Notebook, but we'll save time by working in this one). Write in the new cell something like `My CollateX test`, so you know that this is your tests from that cell onwards. You can use the Markdown cells to document what is happening around them.\n",
    "\n",
    "2. Then, create a Code cell and copy the code here below: this is all CollateX needs to collate some texts, the same instructions we gave it before but all together.\n",
    "\n",
    "3. Now run the cell a first time and see the results.\n",
    "\n",
    "4. Make changes and see how the output changes when you run the cell again. Change one thing at a time: this way, if you get an error message, it will be easier to debug the code. Try the following changes: \n",
    "    1. Change the text for each witness\n",
    "    2. Set the segmentation option to True (you will see that it is the same as deleting it)\n",
    "    3. Add a new witness\n",
    "    4. It is also possible to change the sigil for each witness. The sigil is the abbreviation used for refering to a witness, here 'A', 'B', 'C'.\n",
    "\n"
   ]
  },
  {
   "cell_type": "code",
   "execution_count": 13,
   "metadata": {},
   "outputs": [
    {
     "name": "stdout",
     "output_type": "stream",
     "text": [
      "+------+------+---------+\n",
      "|  A   |  B   |    C    |\n",
      "+------+------+---------+\n",
      "| Some | Some |   Some  |\n",
      "+------+------+---------+\n",
      "| text | text |   text  |\n",
      "+------+------+---------+\n",
      "| here | here |    in   |\n",
      "+------+------+---------+\n",
      "|  -   |  -   |   the   |\n",
      "+------+------+---------+\n",
      "|  -   |  -   |  third  |\n",
      "+------+------+---------+\n",
      "|  -   |  -   | witness |\n",
      "+------+------+---------+\n",
      "|  -   |  as  |    as   |\n",
      "+------+------+---------+\n",
      "|  -   | well |   well  |\n",
      "+------+------+---------+\n"
     ]
    }
   ],
   "source": [
    "from collatex import *\n",
    "collation = Collation()\n",
    "collation.add_plain_witness( \"A\", \"Some text here\")\n",
    "collation.add_plain_witness( \"B\", \"Some text here as well\" )\n",
    "collation.add_plain_witness( \"C\", \"Some text in the third witness as well\" )\n",
    "alignment_table = collate(collation, layout='vertical', segmentation=False)\n",
    "print( alignment_table )"
   ]
  },
  {
   "cell_type": "markdown",
   "metadata": {},
   "source": [
    "# *DELETE OR MOVE FROM HERE*"
   ]
  },
  {
   "cell_type": "markdown",
   "metadata": {},
   "source": [
    "Okay, that's all good and nice, but that's just tiny fragments—we want decent chunks of text to collate! Well, we can do that too, although it requires a little more work. Specifically for reading in text files from the file system. If we didn't do it that way, we would have to key in all the characters of each witness, and that's just a lot of unnecessary work if we have those texts already in a file. The code below uses the `open` command to open each text file and assign the contents to a variable with an appropriately chosen name.\n",
    "\n",
    "The `encoding=\"utf-8\"` bit is needed because you should always tell Python which encoding your data uses. This is probably the only place and time where you will use that encoding directive: when you open a (text) file."
   ]
  },
  {
   "cell_type": "code",
   "execution_count": null,
   "metadata": {
    "collapsed": true
   },
   "outputs": [],
   "source": [
    "collation = Collation()\n",
    "witness_1859 = open( \"../data/Darwin/txt/darwin1859_par1.txt\", encoding='utf-8' ).read()\n",
    "witness_1860 = open( \"../data/Darwin/txt/darwin1860_par1.txt\", encoding='utf-8' ).read()\n",
    "witness_1861 = open( \"../data/Darwin/txt/darwin1861_par1.txt\", encoding='utf-8' ).read()\n",
    "witness_1866 = open( \"../data/Darwin/txt/darwin1866_par1.txt\", encoding='utf-8' ).read()\n",
    "witness_1869 = open( \"../data/Darwin/txt/darwin1869_par1.txt\", encoding='utf-8' ).read()\n",
    "witness_1872 = open( \"../data/Darwin/txt/darwin1872_par1.txt\", encoding='utf-8' ).read()\n",
    "collation.add_plain_witness( \"1859\", witness_1859 )\n",
    "collation.add_plain_witness( \"1860\", witness_1860 )\n",
    "collation.add_plain_witness( \"1861\", witness_1861 )\n",
    "collation.add_plain_witness( \"1866\", witness_1866 )\n",
    "collation.add_plain_witness( \"1869\", witness_1869 )\n",
    "collation.add_plain_witness( \"1872\", witness_1872 )"
   ]
  },
  {
   "cell_type": "markdown",
   "metadata": {},
   "source": [
    "Now let's check if these witnesses actually contain some text by printing a few of them."
   ]
  },
  {
   "cell_type": "code",
   "execution_count": null,
   "metadata": {},
   "outputs": [],
   "source": [
    "print( witness_1859 )"
   ]
  },
  {
   "cell_type": "code",
   "execution_count": null,
   "metadata": {},
   "outputs": [],
   "source": [
    "print( witness_1860 )"
   ]
  },
  {
   "cell_type": "markdown",
   "metadata": {},
   "source": [
    "And now let's collate those witnesses and let's put the result up as an HTML-formatted alignment table…"
   ]
  },
  {
   "cell_type": "code",
   "execution_count": null,
   "metadata": {},
   "outputs": [],
   "source": [
    "alignment_table = collate(collation, layout='vertical', output='html')"
   ]
  },
  {
   "cell_type": "markdown",
   "metadata": {},
   "source": [
    "Hmm… that is still a little hard to read. Wouldn't it be nice if we got a hint where the actual differences are? Sure, try…"
   ]
  },
  {
   "cell_type": "code",
   "execution_count": null,
   "metadata": {},
   "outputs": [],
   "source": [
    "alignment_table = collate(collation, layout='vertical', output='html2')"
   ]
  },
  {
   "cell_type": "markdown",
   "metadata": {},
   "source": [
    "And finally, we can also generate the variant graph for this collation…"
   ]
  },
  {
   "cell_type": "code",
   "execution_count": null,
   "metadata": {
    "scrolled": false
   },
   "outputs": [],
   "source": [
    "graph = collate( collation, output=\"svg\" )"
   ]
  },
  {
   "cell_type": "markdown",
   "metadata": {
    "collapsed": true
   },
   "source": [
    "**Note**: you may have noticed that **if you run the cells in an IPython notebook in order, they know about one another**. For this reason, in the end of this tutorial we could produce different outputs using the information typed into the previous cells. When you open a notebook, remember to run the cells in order or to \"run all cells\" (from the menu Cell), otherwise you may get an error message."
   ]
  },
  {
   "cell_type": "code",
   "execution_count": null,
   "metadata": {
    "collapsed": true
   },
   "outputs": [],
   "source": []
  }
 ],
 "metadata": {
  "kernelspec": {
   "display_name": "Python 3",
   "language": "python",
   "name": "python3"
  },
  "language_info": {
   "codemirror_mode": {
    "name": "ipython",
    "version": 3
   },
   "file_extension": ".py",
   "mimetype": "text/x-python",
   "name": "python",
   "nbconvert_exporter": "python",
   "pygments_lexer": "ipython3",
   "version": "3.6.3"
  }
 },
 "nbformat": 4,
 "nbformat_minor": 1
}
