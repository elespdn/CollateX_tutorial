{
 "cells": [
  {
   "cell_type": "markdown",
   "metadata": {},
   "source": [
    "# Collating for real with CollateX. Files\n",
    "\n",
    "In this exercise, follow the instructions here: read the Markdown cells and execute the Code cells (the ones with In + a number on their left).\n",
    "\n",
    "Not sure how to execute cells in a Notebook? Check the [Jupyter Notebook tutorial](../02_PrepareEnvironment/JupyterNotebook.ipynb)."
   ]
  },
  {
   "cell_type": "markdown",
   "metadata": {},
   "source": [
    "## 1. First exercise (Darwin texts). Read from files and HTML output."
   ]
  },
  {
   "cell_type": "markdown",
   "metadata": {},
   "source": [
    "Import the *collatex* Python library"
   ]
  },
  {
   "cell_type": "code",
   "execution_count": null,
   "metadata": {
    "collapsed": true
   },
   "outputs": [],
   "source": [
    "from collatex import *"
   ]
  },
  {
   "cell_type": "markdown",
   "metadata": {},
   "source": [
    "Create a collation object"
   ]
  },
  {
   "cell_type": "code",
   "execution_count": null,
   "metadata": {
    "collapsed": true
   },
   "outputs": [],
   "source": [
    "collation = Collation()"
   ]
  },
  {
   "cell_type": "markdown",
   "metadata": {},
   "source": [
    "### Read text from files\n",
    "\n",
    "Now open the texts in \"../data/Darwin\" and let Python read them.\n",
    "\n",
    "The indication 'par1' in the name of each file indicates here that it is only the first paragraph.\n",
    "\n",
    "The code below is how Python read a file: it is not CollateX code, but general Python way of doing things. Each file is opened, read (using a specific character encoding) and stored in a variable ('witness_1859', etc.). The name of the variable cannot contain whitespaces!"
   ]
  },
  {
   "cell_type": "code",
   "execution_count": null,
   "metadata": {
    "collapsed": true
   },
   "outputs": [],
   "source": [
    "witness_1859 = open( \"../data/Darwin/darwin1859_par1.txt\", encoding='utf-8' ).read()\n",
    "witness_1860 = open( \"../data/Darwin/darwin1860_par1.txt\", encoding='utf-8' ).read()\n",
    "witness_1861 = open( \"../data/Darwin/darwin1861_par1.txt\", encoding='utf-8' ).read()\n",
    "witness_1866 = open( \"../data/Darwin/darwin1866_par1.txt\", encoding='utf-8' ).read()\n",
    "witness_1869 = open( \"../data/Darwin/darwin1869_par1.txt\", encoding='utf-8' ).read()\n",
    "witness_1872 = open( \"../data/Darwin/darwin1872_par1.txt\", encoding='utf-8' ).read()"
   ]
  },
  {
   "cell_type": "markdown",
   "metadata": {},
   "source": [
    "Just to be sure that the text in the files has been stored, try to print one of them."
   ]
  },
  {
   "cell_type": "code",
   "execution_count": null,
   "metadata": {},
   "outputs": [],
   "source": [
    "print(witness_1859)"
   ]
  },
  {
   "cell_type": "markdown",
   "metadata": {},
   "source": [
    "Or another one"
   ]
  },
  {
   "cell_type": "code",
   "execution_count": null,
   "metadata": {
    "collapsed": true
   },
   "outputs": [],
   "source": [
    "print(witness_1872)"
   ]
  },
  {
   "cell_type": "markdown",
   "metadata": {},
   "source": [
    "### Add them to the CollateX instance as witnesses\n",
    "\n",
    "This is similar to what we've done in the previous exercise, but instead of the text we put here the variable containing the text read from the files."
   ]
  },
  {
   "cell_type": "code",
   "execution_count": null,
   "metadata": {
    "collapsed": true
   },
   "outputs": [],
   "source": [
    "collation.add_plain_witness( \"1859\", witness_1859 )\n",
    "collation.add_plain_witness( \"1860\", witness_1860 )\n",
    "collation.add_plain_witness( \"1861\", witness_1861 )\n",
    "collation.add_plain_witness( \"1866\", witness_1866 )\n",
    "collation.add_plain_witness( \"1869\", witness_1869 )\n",
    "collation.add_plain_witness( \"1872\", witness_1872 )"
   ]
  },
  {
   "cell_type": "markdown",
   "metadata": {},
   "source": [
    "### New output: HTML table\n",
    "\n",
    "When you create the collation result, use the output option to specify the output you want. Here, set to hmlt."
   ]
  },
  {
   "cell_type": "code",
   "execution_count": null,
   "metadata": {
    "collapsed": true
   },
   "outputs": [],
   "source": [
    "alignment_table = collate(collation, layout='vertical', output=\"html\")\n",
    "print(alignment_table)"
   ]
  },
  {
   "cell_type": "markdown",
   "metadata": {},
   "source": [
    "## 2. Second exercise (Woolf texts). Read from files and HTML2 output.\n",
    "\n",
    "In the second exercise, repeat the previous steps, now using the texts at \"../data/Woolf/Lighthouse-2\" and visualizing the output with the more sophisticated HTML option (HTML2).\n",
    "\n",
    "We will be using different editions of Virginia Woolf's *To the lighthouse*:\n",
    "\n",
    "    USA = New York: Harcourt, Brace & Company, 1927 (1st USA edition)\n",
    "    UK = Londond: R & R Clark Limited, 1827 (1st UK edition)\n",
    "    EM (EVERYMAN) = London: J. M. Dent & Sons LTD, 1938 (reprint 1952)\n",
    "\n",
    "The facsimiles and trascriptions of the editions are available at http://woolfonline.com/. Please refer to the information in the data directory for the materials licence.\n",
    "\n",
    "Note that the output 'html2' is specified this time: colors should appear!"
   ]
  },
  {
   "cell_type": "code",
   "execution_count": null,
   "metadata": {},
   "outputs": [],
   "source": [
    "from collatex import *\n",
    "collation = Collation()\n",
    "witness_USA = open( \"../data/Woolf/Lighthouse-1/Lighthouse-1-USA.txt\", encoding='utf-8' ).read()\n",
    "witness_UK = open( \"../data/Woolf/Lighthouse-1/Lighthouse-1-UK.txt\", encoding='utf-8' ).read()\n",
    "witness_EM = open( \"../data/Woolf/Lighthouse-1/Lighthouse-1-EM.txt\", encoding='utf-8' ).read()\n",
    "collation.add_plain_witness( \"USA\", witness_USA )\n",
    "collation.add_plain_witness( \"UK\", witness_UK )\n",
    "collation.add_plain_witness( \"EM\", witness_EM )\n",
    "alignment_table = collate(collation, output='html2')"
   ]
  },
  {
   "cell_type": "markdown",
   "metadata": {},
   "source": [
    "## 3. Third exercise (the sonnet about writing a sonnet). Read from files and HTML2 output.\n",
    "\n",
    "You now know how to collate texts stored in files. Try with the other materials inside the data directory: the sonnet about writing a sonnet, that you have been using to start encoding in TEI. Collate the two versions of the sonnet.\n",
    "\n",
    "\n"
   ]
  }
 ],
 "metadata": {
  "anaconda-cloud": {},
  "kernelspec": {
   "display_name": "Python 3",
   "language": "python",
   "name": "python3"
  },
  "language_info": {
   "codemirror_mode": {
    "name": "ipython",
    "version": 3
   },
   "file_extension": ".py",
   "mimetype": "text/x-python",
   "name": "python",
   "nbconvert_exporter": "python",
   "pygments_lexer": "ipython3",
   "version": "3.6.3"
  }
 },
 "nbformat": 4,
 "nbformat_minor": 1
}
