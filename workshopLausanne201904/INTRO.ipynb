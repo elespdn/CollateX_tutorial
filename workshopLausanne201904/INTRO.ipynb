{
 "cells": [
  {
   "cell_type": "markdown",
   "metadata": {},
   "source": [
    "# Formation Textes et éditions numériques\n",
    "## Université de Lausanne, 25-26 avril 2019\n",
    "\n",
    "\n",
    "\n",
    "### Presentation\n",
    "This repository hosts materials for the workshop [**Textes et éditions numériques**](https://www.unil.ch/doc-digitalstudies/home/menuinst/activites-du-programme/textes-et-editions-numeriques.html), that takes place in Lausanne on 25-26 April 2019. The event is part of the [Programme doctoral en études numériques](https://www.unil.ch/doc-digitalstudies/home.html) of the University of Lausanne. \n",
    "\n",
    "Two sessions of the workshop engage with the theory and practice of semi-automated collation and provide a basic training in the open source collation program CollateX. \n",
    "\n",
    "Materials about the installation of CollateX and Jupyter Notebooks are available as well:\n",
    "- [Installation](00_installation/Installation.ipynb)\n",
    "\n",
    "\n",
    "### Schedule \n",
    "\n",
    "**26 April, 11h00-12h30**\n",
    "\n",
    "01. What is collation and how is performed automatically. Slides | Materials\n",
    "\n",
    "02. Prepare the environment. Go to [Notebook](02_PrepareEnvironment/JupyterNotebook.ipynb)\n",
    "\n",
    "03. Collate for real: plain text. Go to [Notebook](03_CollateForReal_PlainTexts/Collate_PlainTexts.ipynb)\n",
    "\n",
    "\n",
    "**26 April, 14h00-15h30**\n",
    "\n",
    "04. Collate for real: files. Go to [Notebook](03_CollateForReal_PlainTexts/Collate_PlainTexts.ipynb)\n",
    "\n",
    "05. Collate for real: output options. Go to [Notebook](03_CollateForReal_PlainTexts/Collate_PlainTexts.ipynb)\n",
    "\n",
    "06. More about collating for real: normalization and best practices. Slides | Materials\n",
    "\n",
    "\n",
    "### Workshop materials\n",
    "The materials collected here are mostly taken from the DiXiT Workshop *Code and Collation: Training Textual Scholars* held in Amsterdam in 2016 ([website](https://sites.google.com/site/dixitcodingcollation/) | [Github repo](https://github.com/DiXiT-eu/collatex-tutorial). The Amsterdam Workshop itself partly reuses tutorials from the [CollateX Workshop](http://collatex.obdurodon.org/) held in Sydney during DH 2016 and from the instructors' teaching materials. "
   ]
  }
 ],
 "metadata": {
  "kernelspec": {
   "display_name": "Python 3",
   "language": "python",
   "name": "python3"
  },
  "language_info": {
   "codemirror_mode": {
    "name": "ipython",
    "version": 3
   },
   "file_extension": ".py",
   "mimetype": "text/x-python",
   "name": "python",
   "nbconvert_exporter": "python",
   "pygments_lexer": "ipython3",
   "version": "3.6.3"
  }
 },
 "nbformat": 4,
 "nbformat_minor": 1
}
