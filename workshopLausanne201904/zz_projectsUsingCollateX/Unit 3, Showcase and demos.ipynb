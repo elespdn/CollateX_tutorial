{
 "cells": [
  {
   "cell_type": "markdown",
   "metadata": {},
   "source": [
    "# Unit 3: Showcase and demos"
   ]
  },
  {
   "cell_type": "markdown",
   "metadata": {},
   "source": [
    "- Rus′ primary chronicle (Povest′ vremennyx let, PVL)\n",
    "- Samuel Beckett Digital Manuscript Project\n",
    "- Textgrid\n",
    "- Selma Lagerlöf Archive\n",
    "\n",
    "CollateX is used in different projects, including digital editions, virtual environment for digital textual research and digital archives. Some examples below.\n",
    "\n",
    "---\n",
    "\n",
    "<img src=\"images/Radzivill_chronicle_074.jpg\" align=\"right\" width=\"40%\"/>\n",
    "## Rus′ primary chronicle (Povest′ vremennyx let, PVL)\n",
    "\n",
    "### What is the PVL?\n",
    "\n",
    "* Principal indigenous historical record of the Eastern Slavs (ancestors of modern Russia, Ukraine, Belarus)\n",
    "* Incorporates Byzantine chronicles (beginning with the division of the earth among the sons of Noah) and Rusian oral tradition\n",
    "* Multiple redactions produced in different monasteries (under the patronage of different princes) through the early 12th century\n",
    "* Five principal extant manuscripts, the earliest dated to 1377\n",
    "* Traditional scholarship favors the oldest *manuscript*, although stemmatic analysis suggests that it does not always provide the best *text*\n",
    "* Important in literary, linguistic, and historical study\n",
    "\n",
    "### The Harvard Ukrainian Research Institute edition\n",
    "<img src=\"images/huri_pvl.png\" align=\"right\" width=\"40%\"/>\n",
    "\n",
    "#### Editorial method\n",
    "\n",
    "* Full interlinear collation based on new diplomatic transcriptions of all principal witness, augmented by others where the principal ones are defective\n",
    "* *Dynamic critical text* (*paradosis* ‘best reading’)\n",
    "\n",
    "#### Workflow\n",
    "\n",
    "* Typeset in troff in the 1980s for paper publication (2004)\n",
    "* Converted to SGML, then XML, then HTML for web publication in the 1990s\n",
    "* Original collation is *line-level* and was performed by hand\n",
    "* Now using CollateX to introduce *word-level* collation\n",
    "* No funding (= must automate as much as possible)\n",
    "\n",
    "### HTML output\n",
    "<img src=\"images/collation_line_html.png\" align=\"left\" width=\"49%\"/>\n",
    "<img src=\"images/collation_word_html.png\" align=\"right\" width=\"49%\"/>"
   ]
  },
  {
   "cell_type": "markdown",
   "metadata": {},
   "source": [
    "### Issues\n",
    "\n",
    "#### Textual\n",
    "\n",
    "* What to align (word division? punctuation? page and line breaks?) (Gothenburg **tokenization**)\n",
    "* Diplomatic transcription means lots of insignificant variation (Gothenburg **normalization** and **analysis**)\n",
    "\n",
    "#### Structural\n",
    "\n",
    "* Internal markup (deletions, additions, corrections, choices)\n",
    "* Text is already subdivided into ~8200 *blocks* (line-level collation sets), which can be regarded as individual collation tasks for word-level alignment\n",
    "___\n",
    "For more information, including the full digital edition, see http://pvl.obdurodon.org."
   ]
  },
  {
   "cell_type": "markdown",
   "metadata": {},
   "source": [
    "\n",
    "## Samuel Beckett Digital Manuscript Project\n",
    "The [Samuel Beckett Digital Manuscript Project](http://www.beckettarchive.org/) aims to collect the manuscripts of Samuel Beckett's works in a digital way, and to facilitate genetic research. Beckett's works has an additional interest as the author was also the translator of his own texts. \n",
    "\n",
    "The example below is drawn from *L'Innommable / The Unnamable*.\n",
    "\n",
    "Starting from [one manuscript](http://www.beckettarchive.org/demo/MS-HRC-SB-5-10/p1?view=text), the user can compare all the different versions of each sentence, or portion of the text, in the [synoptic sentence view](http://www.beckettarchive.org/demo/comparesentences/0012). The user has the possibility to collate all French or [English versions](http://www.beckettarchive.org/demo/collatex/0012?lang=EN&comp=d0e204;inntsd0e218;txxdd0e218;tx2d1e35;), on the fly, using Collatex. \n",
    "\n",
    "<a href=\"images/beckett.png\"><img src=\"images/beckett.png\" width=\"90%\"/></a>\n",
    "\n",
    "The Beckett Project guarantees the quality of the transcriptions and it uses CollateX to collate versions, without providing an apparatus manually corrected. The collation is made on texts which have multiple layers, as in the case of addition and deletion.\n",
    "\n",
    "## Textgrid\n",
    "Textgrid is a workbench for digital editing and a repository for archiving digital texts and editions. It is a virtual research environment, which includes an XML editor, support for linguistic analysis, facilities for working with images and for linking the image with the text, and it integrates CollateX (available through the Eclipse Marketplace).\n",
    "\n",
    "In TextGrid, CollateX runs on a collation set, that the user can define gathering plain text documents. The results can be shown as an alignment table, a variant graph or in XML.\n",
    "\n",
    "<a href=\"images/textgrid1.png\"><img src=\"images/textgrid1.png\" width=\"90%\"/></a>\n",
    "\n",
    "<a href=\"images/textgrid2.png\"><img src=\"images/textgrid2.png\" width=\"90%\"/></a>\n",
    "\n",
    "Users can also establish an equivalence set, to define the tokens to be treated as identical. Variance between them will be ignored by the tool, producing different results\n",
    "\n",
    "<a href=\"images/textgrid3-2.png\"><img src=\"images/textgrid3-2.png\" width=\"90%\"/></a>\n",
    "\n",
    "\n",
    "## Selma Lagerlöf Archive\n",
    "CollateX has been used in the Selma Lagerlöf Archive to collate TEI-xml documents also taking the structure into account. This was originally supported by Svenska vitterhetssamfundet (SVS), (approximately The Swedish Philological Society). Later on merged into the Swedish Literature Bank.\n",
    "Take a look at the branded UI [Selma Lagerlöf Archive at Litteraturbanken.se](http://litteraturbanken.se/#!/forfattare/LagerlofS/jamfor)\n",
    "The underlying eXist-db xar app developed by Friprogramvarusyndikatet.se has been un-branded and will be publically available.\n",
    "The app has been heavily tested in an extensive and extended limited availability period which is finally reaching its end. The latest sponsor supporting with a handful of days being the Swedish Literary Society in Finland (SLS).\n",
    "\n",
    "\n",
    "\n"
   ]
  },
  {
   "cell_type": "code",
   "execution_count": null,
   "metadata": {
    "collapsed": true
   },
   "outputs": [],
   "source": []
  }
 ],
 "metadata": {
  "kernelspec": {
   "display_name": "Python 3",
   "language": "python",
   "name": "python3"
  },
  "language_info": {
   "codemirror_mode": {
    "name": "ipython",
    "version": 3
   },
   "file_extension": ".py",
   "mimetype": "text/x-python",
   "name": "python",
   "nbconvert_exporter": "python",
   "pygments_lexer": "ipython3",
   "version": "3.5.2"
  }
 },
 "nbformat": 4,
 "nbformat_minor": 1
}
